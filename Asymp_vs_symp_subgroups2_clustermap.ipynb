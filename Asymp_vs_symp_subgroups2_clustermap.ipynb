{
 "cells": [
  {
   "cell_type": "markdown",
   "metadata": {},
   "source": [
    "# This script takes a set of KEGG categories ('Subgroup2') that were significantly differentially abundant between two groups, identifies the individual KOs within each category that were significantly different, and plots those genes only in a heat map.\n",
    "# You should have a working directory containing (1) the file of normalized read counts for each gene (KO), and (2) a list of significantly different genes (KOs)"
   ]
  },
  {
   "cell_type": "code",
   "execution_count": 1,
   "metadata": {},
   "outputs": [
    {
     "name": "stderr",
     "output_type": "stream",
     "text": [
      "/Users/npatin3/miniconda/lib/python3.6/site-packages/statsmodels/tools/_testing.py:19: FutureWarning: pandas.util.testing is deprecated. Use the functions in the public API at pandas.testing instead.\n",
      "  import pandas.util.testing as tm\n"
     ]
    }
   ],
   "source": [
    "import os as os\n",
    "import numpy as np\n",
    "import pandas as pd\n",
    "import seaborn as sns\n",
    "import matplotlib.pyplot as plt"
   ]
  },
  {
   "cell_type": "code",
   "execution_count": 2,
   "metadata": {},
   "outputs": [],
   "source": [
    "# Navigate to working directory\n",
    "os.chdir('/Users/npatin3/Dropbox (GaTech)/Norovirus/Annotation/kofamscan/Assemblies/Asymp_vs_symp')"
   ]
  },
  {
   "cell_type": "code",
   "execution_count": 3,
   "metadata": {},
   "outputs": [],
   "source": [
    "path = \"Asymp_vs_symp_KOs_readcounts.csv\""
   ]
  },
  {
   "cell_type": "code",
   "execution_count": 4,
   "metadata": {},
   "outputs": [
    {
     "data": {
      "text/html": [
       "<div>\n",
       "<style scoped>\n",
       "    .dataframe tbody tr th:only-of-type {\n",
       "        vertical-align: middle;\n",
       "    }\n",
       "\n",
       "    .dataframe tbody tr th {\n",
       "        vertical-align: top;\n",
       "    }\n",
       "\n",
       "    .dataframe thead th {\n",
       "        text-align: right;\n",
       "    }\n",
       "</style>\n",
       "<table border=\"1\" class=\"dataframe\">\n",
       "  <thead>\n",
       "    <tr style=\"text-align: right;\">\n",
       "      <th></th>\n",
       "      <th>Group</th>\n",
       "      <th>Subgroup</th>\n",
       "      <th>Subgroup2</th>\n",
       "      <th>KO</th>\n",
       "      <th>Function</th>\n",
       "      <th>ReadCounts</th>\n",
       "      <th>Sample</th>\n",
       "      <th>GE</th>\n",
       "      <th>ReadCounts_Norm</th>\n",
       "      <th>dataset</th>\n",
       "    </tr>\n",
       "  </thead>\n",
       "  <tbody>\n",
       "    <tr>\n",
       "      <th>0</th>\n",
       "      <td>Metabolism</td>\n",
       "      <td>Carbohydrate metabolism</td>\n",
       "      <td>Glycolysis / Gluconeogenesis [PATH:ko00010]</td>\n",
       "      <td>K00844</td>\n",
       "      <td>HK; hexokinase [EC:2.7.1.1]</td>\n",
       "      <td>1</td>\n",
       "      <td>13_1</td>\n",
       "      <td>548</td>\n",
       "      <td>0.001825</td>\n",
       "      <td>Asymptomatic</td>\n",
       "    </tr>\n",
       "    <tr>\n",
       "      <th>1</th>\n",
       "      <td>Metabolism</td>\n",
       "      <td>Carbohydrate metabolism</td>\n",
       "      <td>Fructose and mannose metabolism [PATH:ko00051]</td>\n",
       "      <td>K00844</td>\n",
       "      <td>HK; hexokinase [EC:2.7.1.1]</td>\n",
       "      <td>1</td>\n",
       "      <td>13_1</td>\n",
       "      <td>548</td>\n",
       "      <td>0.001825</td>\n",
       "      <td>Asymptomatic</td>\n",
       "    </tr>\n",
       "    <tr>\n",
       "      <th>2</th>\n",
       "      <td>Metabolism</td>\n",
       "      <td>Carbohydrate metabolism</td>\n",
       "      <td>Galactose metabolism [PATH:ko00052]</td>\n",
       "      <td>K00844</td>\n",
       "      <td>HK; hexokinase [EC:2.7.1.1]</td>\n",
       "      <td>1</td>\n",
       "      <td>13_1</td>\n",
       "      <td>548</td>\n",
       "      <td>0.001825</td>\n",
       "      <td>Asymptomatic</td>\n",
       "    </tr>\n",
       "    <tr>\n",
       "      <th>3</th>\n",
       "      <td>Metabolism</td>\n",
       "      <td>Carbohydrate metabolism</td>\n",
       "      <td>Starch and sucrose metabolism [PATH:ko00500]</td>\n",
       "      <td>K00844</td>\n",
       "      <td>HK; hexokinase [EC:2.7.1.1]</td>\n",
       "      <td>1</td>\n",
       "      <td>13_1</td>\n",
       "      <td>548</td>\n",
       "      <td>0.001825</td>\n",
       "      <td>Asymptomatic</td>\n",
       "    </tr>\n",
       "    <tr>\n",
       "      <th>4</th>\n",
       "      <td>Metabolism</td>\n",
       "      <td>Carbohydrate metabolism</td>\n",
       "      <td>Amino sugar and nucleotide sugar metabolism [P...</td>\n",
       "      <td>K00844</td>\n",
       "      <td>HK; hexokinase [EC:2.7.1.1]</td>\n",
       "      <td>1</td>\n",
       "      <td>13_1</td>\n",
       "      <td>548</td>\n",
       "      <td>0.001825</td>\n",
       "      <td>Asymptomatic</td>\n",
       "    </tr>\n",
       "  </tbody>\n",
       "</table>\n",
       "</div>"
      ],
      "text/plain": [
       "        Group                 Subgroup  \\\n",
       "0  Metabolism  Carbohydrate metabolism   \n",
       "1  Metabolism  Carbohydrate metabolism   \n",
       "2  Metabolism  Carbohydrate metabolism   \n",
       "3  Metabolism  Carbohydrate metabolism   \n",
       "4  Metabolism  Carbohydrate metabolism   \n",
       "\n",
       "                                           Subgroup2      KO  \\\n",
       "0        Glycolysis / Gluconeogenesis [PATH:ko00010]  K00844   \n",
       "1     Fructose and mannose metabolism [PATH:ko00051]  K00844   \n",
       "2                Galactose metabolism [PATH:ko00052]  K00844   \n",
       "3       Starch and sucrose metabolism [PATH:ko00500]  K00844   \n",
       "4  Amino sugar and nucleotide sugar metabolism [P...  K00844   \n",
       "\n",
       "                       Function  ReadCounts Sample   GE  ReadCounts_Norm  \\\n",
       "0   HK; hexokinase [EC:2.7.1.1]           1   13_1  548         0.001825   \n",
       "1   HK; hexokinase [EC:2.7.1.1]           1   13_1  548         0.001825   \n",
       "2   HK; hexokinase [EC:2.7.1.1]           1   13_1  548         0.001825   \n",
       "3   HK; hexokinase [EC:2.7.1.1]           1   13_1  548         0.001825   \n",
       "4   HK; hexokinase [EC:2.7.1.1]           1   13_1  548         0.001825   \n",
       "\n",
       "        dataset  \n",
       "0  Asymptomatic  \n",
       "1  Asymptomatic  \n",
       "2  Asymptomatic  \n",
       "3  Asymptomatic  \n",
       "4  Asymptomatic  "
      ]
     },
     "execution_count": 4,
     "metadata": {},
     "output_type": "execute_result"
    }
   ],
   "source": [
    "kos = pd.read_csv(path, header=0)\n",
    "kos.head()"
   ]
  },
  {
   "cell_type": "code",
   "execution_count": 5,
   "metadata": {},
   "outputs": [
    {
     "data": {
      "text/html": [
       "<div>\n",
       "<style scoped>\n",
       "    .dataframe tbody tr th:only-of-type {\n",
       "        vertical-align: middle;\n",
       "    }\n",
       "\n",
       "    .dataframe tbody tr th {\n",
       "        vertical-align: top;\n",
       "    }\n",
       "\n",
       "    .dataframe thead th {\n",
       "        text-align: right;\n",
       "    }\n",
       "</style>\n",
       "<table border=\"1\" class=\"dataframe\">\n",
       "  <thead>\n",
       "    <tr style=\"text-align: right;\">\n",
       "      <th></th>\n",
       "      <th>Group</th>\n",
       "      <th>Subgroup</th>\n",
       "      <th>Subgroup2</th>\n",
       "      <th>KO</th>\n",
       "      <th>Function</th>\n",
       "      <th>ReadCounts</th>\n",
       "      <th>Sample</th>\n",
       "      <th>GE</th>\n",
       "      <th>ReadCounts_Norm</th>\n",
       "      <th>dataset</th>\n",
       "    </tr>\n",
       "  </thead>\n",
       "  <tbody>\n",
       "    <tr>\n",
       "      <th>0</th>\n",
       "      <td>Metabolism</td>\n",
       "      <td>Carbohydrate metabolism</td>\n",
       "      <td>Glycolysis / Gluconeogenesis</td>\n",
       "      <td>K00844</td>\n",
       "      <td>HK; hexokinase [EC:2.7.1.1]</td>\n",
       "      <td>1</td>\n",
       "      <td>13_1</td>\n",
       "      <td>548</td>\n",
       "      <td>0.001825</td>\n",
       "      <td>Asymptomatic</td>\n",
       "    </tr>\n",
       "    <tr>\n",
       "      <th>1</th>\n",
       "      <td>Metabolism</td>\n",
       "      <td>Carbohydrate metabolism</td>\n",
       "      <td>Fructose and mannose metabolism</td>\n",
       "      <td>K00844</td>\n",
       "      <td>HK; hexokinase [EC:2.7.1.1]</td>\n",
       "      <td>1</td>\n",
       "      <td>13_1</td>\n",
       "      <td>548</td>\n",
       "      <td>0.001825</td>\n",
       "      <td>Asymptomatic</td>\n",
       "    </tr>\n",
       "    <tr>\n",
       "      <th>2</th>\n",
       "      <td>Metabolism</td>\n",
       "      <td>Carbohydrate metabolism</td>\n",
       "      <td>Galactose metabolism</td>\n",
       "      <td>K00844</td>\n",
       "      <td>HK; hexokinase [EC:2.7.1.1]</td>\n",
       "      <td>1</td>\n",
       "      <td>13_1</td>\n",
       "      <td>548</td>\n",
       "      <td>0.001825</td>\n",
       "      <td>Asymptomatic</td>\n",
       "    </tr>\n",
       "    <tr>\n",
       "      <th>3</th>\n",
       "      <td>Metabolism</td>\n",
       "      <td>Carbohydrate metabolism</td>\n",
       "      <td>Starch and sucrose metabolism</td>\n",
       "      <td>K00844</td>\n",
       "      <td>HK; hexokinase [EC:2.7.1.1]</td>\n",
       "      <td>1</td>\n",
       "      <td>13_1</td>\n",
       "      <td>548</td>\n",
       "      <td>0.001825</td>\n",
       "      <td>Asymptomatic</td>\n",
       "    </tr>\n",
       "    <tr>\n",
       "      <th>4</th>\n",
       "      <td>Metabolism</td>\n",
       "      <td>Carbohydrate metabolism</td>\n",
       "      <td>Amino sugar and nucleotide sugar metabolism</td>\n",
       "      <td>K00844</td>\n",
       "      <td>HK; hexokinase [EC:2.7.1.1]</td>\n",
       "      <td>1</td>\n",
       "      <td>13_1</td>\n",
       "      <td>548</td>\n",
       "      <td>0.001825</td>\n",
       "      <td>Asymptomatic</td>\n",
       "    </tr>\n",
       "  </tbody>\n",
       "</table>\n",
       "</div>"
      ],
      "text/plain": [
       "        Group                 Subgroup  \\\n",
       "0  Metabolism  Carbohydrate metabolism   \n",
       "1  Metabolism  Carbohydrate metabolism   \n",
       "2  Metabolism  Carbohydrate metabolism   \n",
       "3  Metabolism  Carbohydrate metabolism   \n",
       "4  Metabolism  Carbohydrate metabolism   \n",
       "\n",
       "                                      Subgroup2      KO  \\\n",
       "0                 Glycolysis / Gluconeogenesis   K00844   \n",
       "1              Fructose and mannose metabolism   K00844   \n",
       "2                         Galactose metabolism   K00844   \n",
       "3                Starch and sucrose metabolism   K00844   \n",
       "4  Amino sugar and nucleotide sugar metabolism   K00844   \n",
       "\n",
       "                       Function  ReadCounts Sample   GE  ReadCounts_Norm  \\\n",
       "0   HK; hexokinase [EC:2.7.1.1]           1   13_1  548         0.001825   \n",
       "1   HK; hexokinase [EC:2.7.1.1]           1   13_1  548         0.001825   \n",
       "2   HK; hexokinase [EC:2.7.1.1]           1   13_1  548         0.001825   \n",
       "3   HK; hexokinase [EC:2.7.1.1]           1   13_1  548         0.001825   \n",
       "4   HK; hexokinase [EC:2.7.1.1]           1   13_1  548         0.001825   \n",
       "\n",
       "        dataset  \n",
       "0  Asymptomatic  \n",
       "1  Asymptomatic  \n",
       "2  Asymptomatic  \n",
       "3  Asymptomatic  \n",
       "4  Asymptomatic  "
      ]
     },
     "execution_count": 5,
     "metadata": {},
     "output_type": "execute_result"
    }
   ],
   "source": [
    "# Remove [PATH:] part of Subgroup2 category name\n",
    "kos[['Subgroup2', 'PATH']] = kos['Subgroup2'].str.split(\"[\", n=1, expand=True)\n",
    "kos = kos.drop('PATH', axis=1)\n",
    "kos.head()"
   ]
  },
  {
   "cell_type": "code",
   "execution_count": 6,
   "metadata": {},
   "outputs": [],
   "source": [
    "# Exclude irrelevant categories\n",
    "kos2 = kos.loc[(kos['Group'] != 'Human Diseases') & \n",
    "               (kos['Group'] != 'Brite Hierarchies') & \n",
    "               (kos['Group'] != 'Organismal Systems') &\n",
    "               (kos['Subgroup'] != 'Cellular community - eukaryotes')]"
   ]
  },
  {
   "cell_type": "markdown",
   "metadata": {},
   "source": [
    "## Subset the dataframe for only categories of interest"
   ]
  },
  {
   "cell_type": "code",
   "execution_count": 12,
   "metadata": {},
   "outputs": [],
   "source": [
    "kos2.set_index(keys=['Subgroup2'], drop=False, inplace=True)\n",
    "kos2.head()"
   ]
  },
  {
   "cell_type": "code",
   "execution_count": 15,
   "metadata": {},
   "outputs": [],
   "source": [
    "# get a list of category names\n",
    "names=kos2['Subgroup2'].unique().tolist()\n",
    "names"
   ]
  },
  {
   "cell_type": "code",
   "execution_count": 17,
   "metadata": {},
   "outputs": [],
   "source": [
    "# Show the data sets being compared (in this case, symptomatic and asymptomatic)\n",
    "datasets=df['dataset'].unique().tolist()\n",
    "datasets"
   ]
  },
  {
   "cell_type": "markdown",
   "metadata": {},
   "source": [
    "#### Function to subset the dataframe based on Subgroup2 name"
   ]
  },
  {
   "cell_type": "code",
   "execution_count": 19,
   "metadata": {},
   "outputs": [],
   "source": [
    "def make_subgroup2_df(df, subgroup2):\n",
    "    sub_df = df.loc[df.Subgroup2=='%s' % subgroup2]\n",
    "    return(sub_df)"
   ]
  },
  {
   "cell_type": "markdown",
   "metadata": {},
   "source": [
    "### Use the function to loop through the list of categories of interest and make a new dataframe only containing those categories"
   ]
  },
  {
   "cell_type": "code",
   "execution_count": 52,
   "metadata": {},
   "outputs": [],
   "source": [
    "names = ['Glycan metabolism','Sphingolipid metabolism ','ABC transporters ','Quorum sensing ']"
   ]
  },
  {
   "cell_type": "code",
   "execution_count": 63,
   "metadata": {},
   "outputs": [],
   "source": [
    "subgroups = []\n",
    "for name in names:\n",
    "    subgroup = make_subgroup2_df(kos2, name)\n",
    "    subgroups.append(subgroup)\n",
    "    \n",
    "subgroups_df = pd.concat(subgroups)"
   ]
  },
  {
   "cell_type": "code",
   "execution_count": 60,
   "metadata": {},
   "outputs": [
    {
     "data": {
      "text/html": [
       "<div>\n",
       "<style scoped>\n",
       "    .dataframe tbody tr th:only-of-type {\n",
       "        vertical-align: middle;\n",
       "    }\n",
       "\n",
       "    .dataframe tbody tr th {\n",
       "        vertical-align: top;\n",
       "    }\n",
       "\n",
       "    .dataframe thead th {\n",
       "        text-align: right;\n",
       "    }\n",
       "</style>\n",
       "<table border=\"1\" class=\"dataframe\">\n",
       "  <thead>\n",
       "    <tr style=\"text-align: right;\">\n",
       "      <th></th>\n",
       "      <th>Group</th>\n",
       "      <th>Subgroup</th>\n",
       "      <th>Subgroup2</th>\n",
       "      <th>KO</th>\n",
       "      <th>Function</th>\n",
       "      <th>ReadCounts</th>\n",
       "      <th>Sample</th>\n",
       "      <th>GE</th>\n",
       "      <th>ReadCounts_Norm</th>\n",
       "      <th>dataset</th>\n",
       "    </tr>\n",
       "    <tr>\n",
       "      <th>Subgroup2</th>\n",
       "      <th></th>\n",
       "      <th></th>\n",
       "      <th></th>\n",
       "      <th></th>\n",
       "      <th></th>\n",
       "      <th></th>\n",
       "      <th></th>\n",
       "      <th></th>\n",
       "      <th></th>\n",
       "      <th></th>\n",
       "    </tr>\n",
       "  </thead>\n",
       "  <tbody>\n",
       "    <tr>\n",
       "      <th>Glycan metabolism</th>\n",
       "      <td>Not Included in Pathway or Brite</td>\n",
       "      <td>Unclassified: metabolism</td>\n",
       "      <td>Glycan metabolism</td>\n",
       "      <td>K03208</td>\n",
       "      <td>wcaI; colanic acid biosynthesis glycosyl tran...</td>\n",
       "      <td>1</td>\n",
       "      <td>38_1</td>\n",
       "      <td>456</td>\n",
       "      <td>0.002193</td>\n",
       "      <td>Asymptomatic</td>\n",
       "    </tr>\n",
       "    <tr>\n",
       "      <th>Glycan metabolism</th>\n",
       "      <td>Not Included in Pathway or Brite</td>\n",
       "      <td>Unclassified: metabolism</td>\n",
       "      <td>Glycan metabolism</td>\n",
       "      <td>K16710</td>\n",
       "      <td>wcaK, amsJ; colanic acid/amylovoran biosynthe...</td>\n",
       "      <td>1</td>\n",
       "      <td>49_1</td>\n",
       "      <td>649</td>\n",
       "      <td>0.001541</td>\n",
       "      <td>Asymptomatic</td>\n",
       "    </tr>\n",
       "    <tr>\n",
       "      <th>Glycan metabolism</th>\n",
       "      <td>Not Included in Pathway or Brite</td>\n",
       "      <td>Unclassified: metabolism</td>\n",
       "      <td>Glycan metabolism</td>\n",
       "      <td>K19294</td>\n",
       "      <td>algI; alginate O-acetyltransferase complex pr...</td>\n",
       "      <td>10</td>\n",
       "      <td>28_1</td>\n",
       "      <td>839</td>\n",
       "      <td>0.011919</td>\n",
       "      <td>Asymptomatic</td>\n",
       "    </tr>\n",
       "    <tr>\n",
       "      <th>Glycan metabolism</th>\n",
       "      <td>Not Included in Pathway or Brite</td>\n",
       "      <td>Unclassified: metabolism</td>\n",
       "      <td>Glycan metabolism</td>\n",
       "      <td>K19294</td>\n",
       "      <td>algI; alginate O-acetyltransferase complex pr...</td>\n",
       "      <td>13</td>\n",
       "      <td>13_1</td>\n",
       "      <td>548</td>\n",
       "      <td>0.023723</td>\n",
       "      <td>Asymptomatic</td>\n",
       "    </tr>\n",
       "    <tr>\n",
       "      <th>Glycan metabolism</th>\n",
       "      <td>Not Included in Pathway or Brite</td>\n",
       "      <td>Unclassified: metabolism</td>\n",
       "      <td>Glycan metabolism</td>\n",
       "      <td>K19294</td>\n",
       "      <td>algI; alginate O-acetyltransferase complex pr...</td>\n",
       "      <td>13</td>\n",
       "      <td>41_1</td>\n",
       "      <td>686</td>\n",
       "      <td>0.018950</td>\n",
       "      <td>Asymptomatic</td>\n",
       "    </tr>\n",
       "  </tbody>\n",
       "</table>\n",
       "</div>"
      ],
      "text/plain": [
       "                                              Group                  Subgroup  \\\n",
       "Subgroup2                                                                       \n",
       "Glycan metabolism  Not Included in Pathway or Brite  Unclassified: metabolism   \n",
       "Glycan metabolism  Not Included in Pathway or Brite  Unclassified: metabolism   \n",
       "Glycan metabolism  Not Included in Pathway or Brite  Unclassified: metabolism   \n",
       "Glycan metabolism  Not Included in Pathway or Brite  Unclassified: metabolism   \n",
       "Glycan metabolism  Not Included in Pathway or Brite  Unclassified: metabolism   \n",
       "\n",
       "                           Subgroup2      KO  \\\n",
       "Subgroup2                                      \n",
       "Glycan metabolism  Glycan metabolism  K03208   \n",
       "Glycan metabolism  Glycan metabolism  K16710   \n",
       "Glycan metabolism  Glycan metabolism  K19294   \n",
       "Glycan metabolism  Glycan metabolism  K19294   \n",
       "Glycan metabolism  Glycan metabolism  K19294   \n",
       "\n",
       "                                                            Function  \\\n",
       "Subgroup2                                                              \n",
       "Glycan metabolism   wcaI; colanic acid biosynthesis glycosyl tran...   \n",
       "Glycan metabolism   wcaK, amsJ; colanic acid/amylovoran biosynthe...   \n",
       "Glycan metabolism   algI; alginate O-acetyltransferase complex pr...   \n",
       "Glycan metabolism   algI; alginate O-acetyltransferase complex pr...   \n",
       "Glycan metabolism   algI; alginate O-acetyltransferase complex pr...   \n",
       "\n",
       "                   ReadCounts Sample   GE  ReadCounts_Norm       dataset  \n",
       "Subgroup2                                                                 \n",
       "Glycan metabolism           1   38_1  456         0.002193  Asymptomatic  \n",
       "Glycan metabolism           1   49_1  649         0.001541  Asymptomatic  \n",
       "Glycan metabolism          10   28_1  839         0.011919  Asymptomatic  \n",
       "Glycan metabolism          13   13_1  548         0.023723  Asymptomatic  \n",
       "Glycan metabolism          13   41_1  686         0.018950  Asymptomatic  "
      ]
     },
     "execution_count": 60,
     "metadata": {},
     "output_type": "execute_result"
    }
   ],
   "source": [
    "subgroups_df.head()"
   ]
  },
  {
   "cell_type": "code",
   "execution_count": 64,
   "metadata": {},
   "outputs": [
    {
     "data": {
      "text/html": [
       "<div>\n",
       "<style scoped>\n",
       "    .dataframe tbody tr th:only-of-type {\n",
       "        vertical-align: middle;\n",
       "    }\n",
       "\n",
       "    .dataframe tbody tr th {\n",
       "        vertical-align: top;\n",
       "    }\n",
       "\n",
       "    .dataframe thead th {\n",
       "        text-align: right;\n",
       "    }\n",
       "</style>\n",
       "<table border=\"1\" class=\"dataframe\">\n",
       "  <thead>\n",
       "    <tr style=\"text-align: right;\">\n",
       "      <th></th>\n",
       "      <th>KO</th>\n",
       "      <th>Subgroup2</th>\n",
       "      <th>Sample</th>\n",
       "      <th>ReadCounts_Norm</th>\n",
       "      <th>dataset</th>\n",
       "    </tr>\n",
       "  </thead>\n",
       "  <tbody>\n",
       "    <tr>\n",
       "      <th>0</th>\n",
       "      <td>K03208</td>\n",
       "      <td>Glycan metabolism</td>\n",
       "      <td>38_1</td>\n",
       "      <td>0.002193</td>\n",
       "      <td>Asymptomatic</td>\n",
       "    </tr>\n",
       "    <tr>\n",
       "      <th>1</th>\n",
       "      <td>K16710</td>\n",
       "      <td>Glycan metabolism</td>\n",
       "      <td>49_1</td>\n",
       "      <td>0.001541</td>\n",
       "      <td>Asymptomatic</td>\n",
       "    </tr>\n",
       "    <tr>\n",
       "      <th>2</th>\n",
       "      <td>K19294</td>\n",
       "      <td>Glycan metabolism</td>\n",
       "      <td>28_1</td>\n",
       "      <td>0.011919</td>\n",
       "      <td>Asymptomatic</td>\n",
       "    </tr>\n",
       "    <tr>\n",
       "      <th>3</th>\n",
       "      <td>K19294</td>\n",
       "      <td>Glycan metabolism</td>\n",
       "      <td>13_1</td>\n",
       "      <td>0.023723</td>\n",
       "      <td>Asymptomatic</td>\n",
       "    </tr>\n",
       "    <tr>\n",
       "      <th>4</th>\n",
       "      <td>K19294</td>\n",
       "      <td>Glycan metabolism</td>\n",
       "      <td>41_1</td>\n",
       "      <td>0.018950</td>\n",
       "      <td>Asymptomatic</td>\n",
       "    </tr>\n",
       "  </tbody>\n",
       "</table>\n",
       "</div>"
      ],
      "text/plain": [
       "       KO          Subgroup2 Sample  ReadCounts_Norm       dataset\n",
       "0  K03208  Glycan metabolism   38_1         0.002193  Asymptomatic\n",
       "1  K16710  Glycan metabolism   49_1         0.001541  Asymptomatic\n",
       "2  K19294  Glycan metabolism   28_1         0.011919  Asymptomatic\n",
       "3  K19294  Glycan metabolism   13_1         0.023723  Asymptomatic\n",
       "4  K19294  Glycan metabolism   41_1         0.018950  Asymptomatic"
      ]
     },
     "execution_count": 64,
     "metadata": {},
     "output_type": "execute_result"
    }
   ],
   "source": [
    "# Reformat data frame to make it more simple and concise\n",
    "subgroups_df = subgroups_df[['KO','Subgroup2','Sample','ReadCounts_Norm', 'dataset']]\n",
    "subgroups_df.reset_index(drop=True, inplace=True)\n",
    "subgroups_df.head()"
   ]
  },
  {
   "cell_type": "markdown",
   "metadata": {},
   "source": [
    "## Select only the individual KOs from this category that were significantly different"
   ]
  },
  {
   "cell_type": "markdown",
   "metadata": {},
   "source": [
    "### Import the list of significantly different KOs"
   ]
  },
  {
   "cell_type": "code",
   "execution_count": 36,
   "metadata": {},
   "outputs": [
    {
     "data": {
      "text/html": [
       "<div>\n",
       "<style scoped>\n",
       "    .dataframe tbody tr th:only-of-type {\n",
       "        vertical-align: middle;\n",
       "    }\n",
       "\n",
       "    .dataframe tbody tr th {\n",
       "        vertical-align: top;\n",
       "    }\n",
       "\n",
       "    .dataframe thead th {\n",
       "        text-align: right;\n",
       "    }\n",
       "</style>\n",
       "<table border=\"1\" class=\"dataframe\">\n",
       "  <thead>\n",
       "    <tr style=\"text-align: right;\">\n",
       "      <th></th>\n",
       "      <th>K00036</th>\n",
       "      <th>K00145</th>\n",
       "      <th>K00297</th>\n",
       "      <th>K00343</th>\n",
       "      <th>K00549</th>\n",
       "      <th>K00656</th>\n",
       "      <th>K00705</th>\n",
       "      <th>K00757</th>\n",
       "      <th>K00761</th>\n",
       "      <th>K00806</th>\n",
       "      <th>...</th>\n",
       "      <th>K15633</th>\n",
       "      <th>K15771</th>\n",
       "      <th>K15923</th>\n",
       "      <th>K16363</th>\n",
       "      <th>K17319</th>\n",
       "      <th>K17320</th>\n",
       "      <th>K19294</th>\n",
       "      <th>K20487</th>\n",
       "      <th>K21574</th>\n",
       "      <th>K21636</th>\n",
       "    </tr>\n",
       "    <tr>\n",
       "      <th>Sample</th>\n",
       "      <th></th>\n",
       "      <th></th>\n",
       "      <th></th>\n",
       "      <th></th>\n",
       "      <th></th>\n",
       "      <th></th>\n",
       "      <th></th>\n",
       "      <th></th>\n",
       "      <th></th>\n",
       "      <th></th>\n",
       "      <th></th>\n",
       "      <th></th>\n",
       "      <th></th>\n",
       "      <th></th>\n",
       "      <th></th>\n",
       "      <th></th>\n",
       "      <th></th>\n",
       "      <th></th>\n",
       "      <th></th>\n",
       "      <th></th>\n",
       "      <th></th>\n",
       "    </tr>\n",
       "  </thead>\n",
       "  <tbody>\n",
       "    <tr>\n",
       "      <th>4_1</th>\n",
       "      <td>0.001541</td>\n",
       "      <td>0.010965</td>\n",
       "      <td>0.002963</td>\n",
       "      <td>1.000000e-09</td>\n",
       "      <td>0.007023</td>\n",
       "      <td>0.080851</td>\n",
       "      <td>0.001541</td>\n",
       "      <td>1.184535e-02</td>\n",
       "      <td>7.288630e-03</td>\n",
       "      <td>0.028509</td>\n",
       "      <td>...</td>\n",
       "      <td>0.006788</td>\n",
       "      <td>1.232666e-02</td>\n",
       "      <td>0.009245</td>\n",
       "      <td>3.994073e-03</td>\n",
       "      <td>0.016423</td>\n",
       "      <td>0.012327</td>\n",
       "      <td>0.003650</td>\n",
       "      <td>1.341663e-02</td>\n",
       "      <td>0.009124</td>\n",
       "      <td>0.005121</td>\n",
       "    </tr>\n",
       "    <tr>\n",
       "      <th>15_1</th>\n",
       "      <td>0.001867</td>\n",
       "      <td>0.010727</td>\n",
       "      <td>0.001508</td>\n",
       "      <td>1.000000e-09</td>\n",
       "      <td>0.007023</td>\n",
       "      <td>0.100560</td>\n",
       "      <td>0.009124</td>\n",
       "      <td>1.724651e-02</td>\n",
       "      <td>1.457726e-02</td>\n",
       "      <td>0.027414</td>\n",
       "      <td>...</td>\n",
       "      <td>0.006306</td>\n",
       "      <td>1.642336e-02</td>\n",
       "      <td>0.020073</td>\n",
       "      <td>1.000000e-09</td>\n",
       "      <td>0.013158</td>\n",
       "      <td>0.016423</td>\n",
       "      <td>0.004386</td>\n",
       "      <td>2.206008e-02</td>\n",
       "      <td>0.007299</td>\n",
       "      <td>0.009120</td>\n",
       "    </tr>\n",
       "    <tr>\n",
       "      <th>36_1</th>\n",
       "      <td>0.001867</td>\n",
       "      <td>0.010949</td>\n",
       "      <td>0.004557</td>\n",
       "      <td>1.540832e-03</td>\n",
       "      <td>0.010217</td>\n",
       "      <td>0.058940</td>\n",
       "      <td>0.004373</td>\n",
       "      <td>1.205026e-02</td>\n",
       "      <td>1.535088e-02</td>\n",
       "      <td>0.023723</td>\n",
       "      <td>...</td>\n",
       "      <td>0.002683</td>\n",
       "      <td>2.623907e-02</td>\n",
       "      <td>0.007289</td>\n",
       "      <td>1.000000e-09</td>\n",
       "      <td>0.012327</td>\n",
       "      <td>0.026239</td>\n",
       "      <td>0.003082</td>\n",
       "      <td>1.933085e-02</td>\n",
       "      <td>0.002915</td>\n",
       "      <td>0.005601</td>\n",
       "    </tr>\n",
       "    <tr>\n",
       "      <th>37_1</th>\n",
       "      <td>0.001867</td>\n",
       "      <td>0.007289</td>\n",
       "      <td>0.005837</td>\n",
       "      <td>1.540832e-03</td>\n",
       "      <td>0.005578</td>\n",
       "      <td>0.042837</td>\n",
       "      <td>0.006579</td>\n",
       "      <td>1.063244e-02</td>\n",
       "      <td>7.704160e-03</td>\n",
       "      <td>0.036443</td>\n",
       "      <td>...</td>\n",
       "      <td>0.003287</td>\n",
       "      <td>1.315789e-02</td>\n",
       "      <td>0.008772</td>\n",
       "      <td>1.692439e-03</td>\n",
       "      <td>0.008343</td>\n",
       "      <td>0.013158</td>\n",
       "      <td>0.001825</td>\n",
       "      <td>1.472745e-02</td>\n",
       "      <td>0.006579</td>\n",
       "      <td>0.004695</td>\n",
       "    </tr>\n",
       "    <tr>\n",
       "      <th>13_1</th>\n",
       "      <td>0.007299</td>\n",
       "      <td>0.003650</td>\n",
       "      <td>0.010949</td>\n",
       "      <td>9.124088e-03</td>\n",
       "      <td>0.003650</td>\n",
       "      <td>0.014599</td>\n",
       "      <td>0.010949</td>\n",
       "      <td>1.000000e-09</td>\n",
       "      <td>1.000000e-09</td>\n",
       "      <td>0.001825</td>\n",
       "      <td>...</td>\n",
       "      <td>0.012774</td>\n",
       "      <td>1.000000e-09</td>\n",
       "      <td>0.031022</td>\n",
       "      <td>3.649635e-03</td>\n",
       "      <td>0.003650</td>\n",
       "      <td>0.003650</td>\n",
       "      <td>0.023723</td>\n",
       "      <td>1.000000e-09</td>\n",
       "      <td>0.016423</td>\n",
       "      <td>0.009124</td>\n",
       "    </tr>\n",
       "  </tbody>\n",
       "</table>\n",
       "<p>5 rows × 116 columns</p>\n",
       "</div>"
      ],
      "text/plain": [
       "          K00036    K00145    K00297        K00343    K00549    K00656  \\\n",
       "Sample                                                                   \n",
       "4_1     0.001541  0.010965  0.002963  1.000000e-09  0.007023  0.080851   \n",
       "15_1    0.001867  0.010727  0.001508  1.000000e-09  0.007023  0.100560   \n",
       "36_1    0.001867  0.010949  0.004557  1.540832e-03  0.010217  0.058940   \n",
       "37_1    0.001867  0.007289  0.005837  1.540832e-03  0.005578  0.042837   \n",
       "13_1    0.007299  0.003650  0.010949  9.124088e-03  0.003650  0.014599   \n",
       "\n",
       "          K00705        K00757        K00761    K00806  ...    K15633  \\\n",
       "Sample                                                  ...             \n",
       "4_1     0.001541  1.184535e-02  7.288630e-03  0.028509  ...  0.006788   \n",
       "15_1    0.009124  1.724651e-02  1.457726e-02  0.027414  ...  0.006306   \n",
       "36_1    0.004373  1.205026e-02  1.535088e-02  0.023723  ...  0.002683   \n",
       "37_1    0.006579  1.063244e-02  7.704160e-03  0.036443  ...  0.003287   \n",
       "13_1    0.010949  1.000000e-09  1.000000e-09  0.001825  ...  0.012774   \n",
       "\n",
       "              K15771    K15923        K16363    K17319    K17320    K19294  \\\n",
       "Sample                                                                       \n",
       "4_1     1.232666e-02  0.009245  3.994073e-03  0.016423  0.012327  0.003650   \n",
       "15_1    1.642336e-02  0.020073  1.000000e-09  0.013158  0.016423  0.004386   \n",
       "36_1    2.623907e-02  0.007289  1.000000e-09  0.012327  0.026239  0.003082   \n",
       "37_1    1.315789e-02  0.008772  1.692439e-03  0.008343  0.013158  0.001825   \n",
       "13_1    1.000000e-09  0.031022  3.649635e-03  0.003650  0.003650  0.023723   \n",
       "\n",
       "              K20487    K21574    K21636  \n",
       "Sample                                    \n",
       "4_1     1.341663e-02  0.009124  0.005121  \n",
       "15_1    2.206008e-02  0.007299  0.009120  \n",
       "36_1    1.933085e-02  0.002915  0.005601  \n",
       "37_1    1.472745e-02  0.006579  0.004695  \n",
       "13_1    1.000000e-09  0.016423  0.009124  \n",
       "\n",
       "[5 rows x 116 columns]"
      ]
     },
     "execution_count": 36,
     "metadata": {},
     "output_type": "execute_result"
    }
   ],
   "source": [
    "kos_sigdiff = pd.read_csv(\"sig_diff_KOs.csv\", index_col=0)\n",
    "kos_sigdiff.head()"
   ]
  },
  {
   "cell_type": "code",
   "execution_count": 37,
   "metadata": {},
   "outputs": [],
   "source": [
    "# Make a list from the column names (KOs)\n",
    "kos_list = kos_sigdiff.columns.to_list()\n",
    "kos_list"
   ]
  },
  {
   "cell_type": "markdown",
   "metadata": {},
   "source": [
    "### Use the list of significantly different KOs to select from the subgroup2"
   ]
  },
  {
   "cell_type": "code",
   "execution_count": 65,
   "metadata": {},
   "outputs": [],
   "source": [
    "df2 = subgroups_df.loc[subgroups_df['KO'].isin(kos_list)]"
   ]
  },
  {
   "cell_type": "markdown",
   "metadata": {},
   "source": [
    "#### Sanity check: df2 should be much smaller than subgroups_df"
   ]
  },
  {
   "cell_type": "code",
   "execution_count": 66,
   "metadata": {},
   "outputs": [
    {
     "data": {
      "text/plain": [
       "(833, 5)"
      ]
     },
     "execution_count": 66,
     "metadata": {},
     "output_type": "execute_result"
    }
   ],
   "source": [
    "subgroups_df.shape"
   ]
  },
  {
   "cell_type": "code",
   "execution_count": 67,
   "metadata": {},
   "outputs": [
    {
     "data": {
      "text/plain": [
       "(113, 5)"
      ]
     },
     "execution_count": 67,
     "metadata": {},
     "output_type": "execute_result"
    }
   ],
   "source": [
    "df2.shape"
   ]
  },
  {
   "cell_type": "code",
   "execution_count": 68,
   "metadata": {},
   "outputs": [
    {
     "data": {
      "text/html": [
       "<div>\n",
       "<style scoped>\n",
       "    .dataframe tbody tr th:only-of-type {\n",
       "        vertical-align: middle;\n",
       "    }\n",
       "\n",
       "    .dataframe tbody tr th {\n",
       "        vertical-align: top;\n",
       "    }\n",
       "\n",
       "    .dataframe thead th {\n",
       "        text-align: right;\n",
       "    }\n",
       "</style>\n",
       "<table border=\"1\" class=\"dataframe\">\n",
       "  <thead>\n",
       "    <tr style=\"text-align: right;\">\n",
       "      <th></th>\n",
       "      <th>KO</th>\n",
       "      <th>Subgroup2</th>\n",
       "      <th>Sample</th>\n",
       "      <th>ReadCounts_Norm</th>\n",
       "      <th>dataset</th>\n",
       "    </tr>\n",
       "  </thead>\n",
       "  <tbody>\n",
       "    <tr>\n",
       "      <th>2</th>\n",
       "      <td>K19294</td>\n",
       "      <td>Glycan metabolism</td>\n",
       "      <td>28_1</td>\n",
       "      <td>0.011919</td>\n",
       "      <td>Asymptomatic</td>\n",
       "    </tr>\n",
       "    <tr>\n",
       "      <th>3</th>\n",
       "      <td>K19294</td>\n",
       "      <td>Glycan metabolism</td>\n",
       "      <td>13_1</td>\n",
       "      <td>0.023723</td>\n",
       "      <td>Asymptomatic</td>\n",
       "    </tr>\n",
       "    <tr>\n",
       "      <th>4</th>\n",
       "      <td>K19294</td>\n",
       "      <td>Glycan metabolism</td>\n",
       "      <td>41_1</td>\n",
       "      <td>0.018950</td>\n",
       "      <td>Asymptomatic</td>\n",
       "    </tr>\n",
       "    <tr>\n",
       "      <th>5</th>\n",
       "      <td>K19294</td>\n",
       "      <td>Glycan metabolism</td>\n",
       "      <td>38_1</td>\n",
       "      <td>0.017544</td>\n",
       "      <td>Asymptomatic</td>\n",
       "    </tr>\n",
       "    <tr>\n",
       "      <th>6</th>\n",
       "      <td>K19294</td>\n",
       "      <td>Glycan metabolism</td>\n",
       "      <td>49_1</td>\n",
       "      <td>0.010786</td>\n",
       "      <td>Asymptomatic</td>\n",
       "    </tr>\n",
       "  </tbody>\n",
       "</table>\n",
       "</div>"
      ],
      "text/plain": [
       "       KO          Subgroup2 Sample  ReadCounts_Norm       dataset\n",
       "2  K19294  Glycan metabolism   28_1         0.011919  Asymptomatic\n",
       "3  K19294  Glycan metabolism   13_1         0.023723  Asymptomatic\n",
       "4  K19294  Glycan metabolism   41_1         0.018950  Asymptomatic\n",
       "5  K19294  Glycan metabolism   38_1         0.017544  Asymptomatic\n",
       "6  K19294  Glycan metabolism   49_1         0.010786  Asymptomatic"
      ]
     },
     "execution_count": 68,
     "metadata": {},
     "output_type": "execute_result"
    }
   ],
   "source": [
    "df2.head()"
   ]
  },
  {
   "cell_type": "markdown",
   "metadata": {},
   "source": [
    "## Final format for clustermap"
   ]
  },
  {
   "cell_type": "code",
   "execution_count": 69,
   "metadata": {},
   "outputs": [],
   "source": [
    "df3 = pd.pivot_table(data=df2, index='Sample', values='ReadCounts_Norm', columns='KO')\n",
    "df3 = df3.fillna(0)\n",
    "# Log-transform if necessary\n",
    "df3_log = np.log(df3.replace(0, 0.0000001))\n",
    "# Square-root transform if necessary\n",
    "df3_sqrt = np.sqrt(df3.replace(0, 0.0000001))"
   ]
  },
  {
   "cell_type": "markdown",
   "metadata": {},
   "source": [
    "## Set palette for color bar showing sample group (asymptomatic vs symptomatic)"
   ]
  },
  {
   "cell_type": "code",
   "execution_count": 79,
   "metadata": {},
   "outputs": [
    {
     "data": {
      "text/html": [
       "<div>\n",
       "<style scoped>\n",
       "    .dataframe tbody tr th:only-of-type {\n",
       "        vertical-align: middle;\n",
       "    }\n",
       "\n",
       "    .dataframe tbody tr th {\n",
       "        vertical-align: top;\n",
       "    }\n",
       "\n",
       "    .dataframe thead th {\n",
       "        text-align: right;\n",
       "    }\n",
       "</style>\n",
       "<table border=\"1\" class=\"dataframe\">\n",
       "  <thead>\n",
       "    <tr style=\"text-align: right;\">\n",
       "      <th></th>\n",
       "      <th>KO</th>\n",
       "      <th>Sample</th>\n",
       "      <th>dataset</th>\n",
       "    </tr>\n",
       "  </thead>\n",
       "  <tbody>\n",
       "    <tr>\n",
       "      <th>0</th>\n",
       "      <td>K00844</td>\n",
       "      <td>13_1</td>\n",
       "      <td>Asymptomatic</td>\n",
       "    </tr>\n",
       "    <tr>\n",
       "      <th>1</th>\n",
       "      <td>K00844</td>\n",
       "      <td>13_1</td>\n",
       "      <td>Asymptomatic</td>\n",
       "    </tr>\n",
       "    <tr>\n",
       "      <th>2</th>\n",
       "      <td>K00844</td>\n",
       "      <td>13_1</td>\n",
       "      <td>Asymptomatic</td>\n",
       "    </tr>\n",
       "    <tr>\n",
       "      <th>3</th>\n",
       "      <td>K00844</td>\n",
       "      <td>13_1</td>\n",
       "      <td>Asymptomatic</td>\n",
       "    </tr>\n",
       "    <tr>\n",
       "      <th>4</th>\n",
       "      <td>K00844</td>\n",
       "      <td>13_1</td>\n",
       "      <td>Asymptomatic</td>\n",
       "    </tr>\n",
       "  </tbody>\n",
       "</table>\n",
       "</div>"
      ],
      "text/plain": [
       "       KO Sample       dataset\n",
       "0  K00844   13_1  Asymptomatic\n",
       "1  K00844   13_1  Asymptomatic\n",
       "2  K00844   13_1  Asymptomatic\n",
       "3  K00844   13_1  Asymptomatic\n",
       "4  K00844   13_1  Asymptomatic"
      ]
     },
     "execution_count": 79,
     "metadata": {},
     "output_type": "execute_result"
    }
   ],
   "source": [
    "palette_df = kos[['KO','Sample','dataset']]\n",
    "palette_df.head()"
   ]
  },
  {
   "cell_type": "code",
   "execution_count": 80,
   "metadata": {},
   "outputs": [],
   "source": [
    "my_palette = dict(zip(palette_df.dataset.unique(), [\"purple\",\"orange\"]))\n",
    "row_colors = palette_df.dataset.map(my_palette)\n",
    "sampz = palette_df.Sample"
   ]
  },
  {
   "cell_type": "code",
   "execution_count": 81,
   "metadata": {},
   "outputs": [
    {
     "data": {
      "text/html": [
       "<div>\n",
       "<style scoped>\n",
       "    .dataframe tbody tr th:only-of-type {\n",
       "        vertical-align: middle;\n",
       "    }\n",
       "\n",
       "    .dataframe tbody tr th {\n",
       "        vertical-align: top;\n",
       "    }\n",
       "\n",
       "    .dataframe thead th {\n",
       "        text-align: right;\n",
       "    }\n",
       "</style>\n",
       "<table border=\"1\" class=\"dataframe\">\n",
       "  <thead>\n",
       "    <tr style=\"text-align: right;\">\n",
       "      <th></th>\n",
       "      <th>dataset</th>\n",
       "    </tr>\n",
       "    <tr>\n",
       "      <th>Sample</th>\n",
       "      <th></th>\n",
       "    </tr>\n",
       "  </thead>\n",
       "  <tbody>\n",
       "    <tr>\n",
       "      <th>13_1</th>\n",
       "      <td>purple</td>\n",
       "    </tr>\n",
       "    <tr>\n",
       "      <th>28_1</th>\n",
       "      <td>purple</td>\n",
       "    </tr>\n",
       "    <tr>\n",
       "      <th>41_1</th>\n",
       "      <td>purple</td>\n",
       "    </tr>\n",
       "    <tr>\n",
       "      <th>38_1</th>\n",
       "      <td>purple</td>\n",
       "    </tr>\n",
       "    <tr>\n",
       "      <th>49_1</th>\n",
       "      <td>purple</td>\n",
       "    </tr>\n",
       "  </tbody>\n",
       "</table>\n",
       "</div>"
      ],
      "text/plain": [
       "       dataset\n",
       "Sample        \n",
       "13_1    purple\n",
       "28_1    purple\n",
       "41_1    purple\n",
       "38_1    purple\n",
       "49_1    purple"
      ]
     },
     "execution_count": 81,
     "metadata": {},
     "output_type": "execute_result"
    }
   ],
   "source": [
    "sample_colors = sampz.to_frame().join(row_colors)\n",
    "sample_colors = sample_colors.drop_duplicates(subset=['Sample'])\n",
    "sample_colors = sample_colors.set_index('Sample')\n",
    "sample_colors.head()"
   ]
  },
  {
   "cell_type": "markdown",
   "metadata": {},
   "source": [
    "## Make the heatmap"
   ]
  },
  {
   "cell_type": "code",
   "execution_count": 74,
   "metadata": {},
   "outputs": [
    {
     "data": {
      "image/png": "[encoded data removed]",
      "text/plain": [
       "<Figure size 1440x720 with 5 Axes>"
      ]
     },
     "metadata": {
      "needs_background": "light"
     },
     "output_type": "display_data"
    }
   ],
   "source": [
    "# Quick and dirty just to check\n",
    "p = sns.clustermap(df3_sqrt, cmap='YlGnBu', figsize=(20,10), xticklabels=True, method='ward', metric='euclidean', \n",
    "                   row_colors = sample_colors)"
   ]
  },
  {
   "cell_type": "code",
   "execution_count": 83,
   "metadata": {},
   "outputs": [
    {
     "data": {
      "image/png": "[encoded data removed]",
      "text/plain": [
       "<Figure size 720x720 with 5 Axes>"
      ]
     },
     "metadata": {
      "needs_background": "light"
     },
     "output_type": "display_data"
    }
   ],
   "source": [
    "p = sns.clustermap(df3_sqrt, cmap='YlGnBu', method='ward', metric='euclidean', xticklabels=False, yticklabels=False,\n",
    "                   row_colors = sample_colors)\n",
    "hm = p.ax_heatmap.get_position()\n",
    "plt.setp(p.ax_heatmap.yaxis.get_majorticklabels(), fontsize=12)\n",
    "plt.setp(p.ax_heatmap.xaxis.get_majorticklabels(), fontsize=16)\n",
    "p.ax_heatmap.set_position([hm.x0, hm.y0, hm.width*3, hm.height])\n",
    "col = p.ax_col_dendrogram.get_position()\n",
    "row = p.ax_row_dendrogram.get_position()\n",
    "p.ax_col_dendrogram.set_position([col.x0, col.y0, col.width*3, col.height*0.5])\n",
    "p.ax_row_dendrogram.set_position([row.x0+0.07, row.y0, row.width*0.75, row.height])"
   ]
  },
  {
   "cell_type": "code",
   "execution_count": 85,
   "metadata": {},
   "outputs": [],
   "source": [
    "p.savefig(\"Fig2B_nolabels.png\")"
   ]
  }
 ],
 "metadata": {
  "kernelspec": {
   "display_name": "Python 3",
   "language": "python",
   "name": "python3"
  },
  "language_info": {
   "codemirror_mode": {
    "name": "ipython",
    "version": 3
   },
   "file_extension": ".py",
   "mimetype": "text/x-python",
   "name": "python",
   "nbconvert_exporter": "python",
   "pygments_lexer": "ipython3",
   "version": "3.6.7"
  }
 },
 "nbformat": 4,
 "nbformat_minor": 2
}
