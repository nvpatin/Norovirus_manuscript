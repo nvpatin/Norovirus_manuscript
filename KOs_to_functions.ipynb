{
 "cells": [
  {
   "cell_type": "code",
   "execution_count": 1,
   "metadata": {},
   "outputs": [],
   "source": [
    "import os as os\n",
    "import numpy as np\n",
    "import pandas as pd\n",
    "import glob as glob"
   ]
  },
  {
   "cell_type": "markdown",
   "metadata": {},
   "source": [
    "### Navigate to working directory"
   ]
  },
  {
   "cell_type": "code",
   "execution_count": 2,
   "metadata": {},
   "outputs": [],
   "source": [
    "os.chdir('/Users/npatin3/Desktop/GTPostdoc/Noro_Assemblies')"
   ]
  },
  {
   "cell_type": "markdown",
   "metadata": {},
   "source": [
    "### Import the \"master\" KO htext file and reformat it"
   ]
  },
  {
   "cell_type": "code",
   "execution_count": 4,
   "metadata": {},
   "outputs": [
    {
     "data": {
      "text/html": [
       "<div>\n",
       "<style scoped>\n",
       "    .dataframe tbody tr th:only-of-type {\n",
       "        vertical-align: middle;\n",
       "    }\n",
       "\n",
       "    .dataframe tbody tr th {\n",
       "        vertical-align: top;\n",
       "    }\n",
       "\n",
       "    .dataframe thead th {\n",
       "        text-align: right;\n",
       "    }\n",
       "</style>\n",
       "<table border=\"1\" class=\"dataframe\">\n",
       "  <thead>\n",
       "    <tr style=\"text-align: right;\">\n",
       "      <th></th>\n",
       "      <th>Group</th>\n",
       "      <th>Subgroup1</th>\n",
       "      <th>Subgroup2</th>\n",
       "      <th>KO</th>\n",
       "    </tr>\n",
       "  </thead>\n",
       "  <tbody>\n",
       "    <tr>\n",
       "      <th>0</th>\n",
       "      <td>09100 Metabolism</td>\n",
       "      <td>09101 Carbohydrate metabolism</td>\n",
       "      <td>00010 Glycolysis / Gluconeogenesis [PATH:ko00010]</td>\n",
       "      <td>K00844  HK; hexokinase [EC:2.7.1.1]</td>\n",
       "    </tr>\n",
       "    <tr>\n",
       "      <th>1</th>\n",
       "      <td>09100 Metabolism</td>\n",
       "      <td>09101 Carbohydrate metabolism</td>\n",
       "      <td>00010 Glycolysis / Gluconeogenesis [PATH:ko00010]</td>\n",
       "      <td>K12407  GCK; glucokinase [EC:2.7.1.2]</td>\n",
       "    </tr>\n",
       "    <tr>\n",
       "      <th>2</th>\n",
       "      <td>09100 Metabolism</td>\n",
       "      <td>09101 Carbohydrate metabolism</td>\n",
       "      <td>00010 Glycolysis / Gluconeogenesis [PATH:ko00010]</td>\n",
       "      <td>K00845  glk; glucokinase [EC:2.7.1.2]</td>\n",
       "    </tr>\n",
       "    <tr>\n",
       "      <th>3</th>\n",
       "      <td>09100 Metabolism</td>\n",
       "      <td>09101 Carbohydrate metabolism</td>\n",
       "      <td>00010 Glycolysis / Gluconeogenesis [PATH:ko00010]</td>\n",
       "      <td>K01810  GPI, pgi; glucose-6-phosphate isomeras...</td>\n",
       "    </tr>\n",
       "    <tr>\n",
       "      <th>4</th>\n",
       "      <td>09100 Metabolism</td>\n",
       "      <td>09101 Carbohydrate metabolism</td>\n",
       "      <td>00010 Glycolysis / Gluconeogenesis [PATH:ko00010]</td>\n",
       "      <td>K06859  pgi1; glucose-6-phosphate isomerase, a...</td>\n",
       "    </tr>\n",
       "  </tbody>\n",
       "</table>\n",
       "</div>"
      ],
      "text/plain": [
       "              Group                      Subgroup1  \\\n",
       "0  09100 Metabolism  09101 Carbohydrate metabolism   \n",
       "1  09100 Metabolism  09101 Carbohydrate metabolism   \n",
       "2  09100 Metabolism  09101 Carbohydrate metabolism   \n",
       "3  09100 Metabolism  09101 Carbohydrate metabolism   \n",
       "4  09100 Metabolism  09101 Carbohydrate metabolism   \n",
       "\n",
       "                                           Subgroup2  \\\n",
       "0  00010 Glycolysis / Gluconeogenesis [PATH:ko00010]   \n",
       "1  00010 Glycolysis / Gluconeogenesis [PATH:ko00010]   \n",
       "2  00010 Glycolysis / Gluconeogenesis [PATH:ko00010]   \n",
       "3  00010 Glycolysis / Gluconeogenesis [PATH:ko00010]   \n",
       "4  00010 Glycolysis / Gluconeogenesis [PATH:ko00010]   \n",
       "\n",
       "                                                  KO  \n",
       "0                K00844  HK; hexokinase [EC:2.7.1.1]  \n",
       "1              K12407  GCK; glucokinase [EC:2.7.1.2]  \n",
       "2              K00845  glk; glucokinase [EC:2.7.1.2]  \n",
       "3  K01810  GPI, pgi; glucose-6-phosphate isomeras...  \n",
       "4  K06859  pgi1; glucose-6-phosphate isomerase, a...  "
      ]
     },
     "execution_count": 4,
     "metadata": {},
     "output_type": "execute_result"
    }
   ],
   "source": [
    "ko_master = pd.read_csv('KO_Orthology_ko00001.txt', sep='\\t', header=None,\n",
    "                       names=['Group','Subgroup1','Subgroup2','KO'])\n",
    "ko_master.head()"
   ]
  },
  {
   "cell_type": "code",
   "execution_count": 5,
   "metadata": {},
   "outputs": [
    {
     "data": {
      "text/html": [
       "<div>\n",
       "<style scoped>\n",
       "    .dataframe tbody tr th:only-of-type {\n",
       "        vertical-align: middle;\n",
       "    }\n",
       "\n",
       "    .dataframe tbody tr th {\n",
       "        vertical-align: top;\n",
       "    }\n",
       "\n",
       "    .dataframe thead th {\n",
       "        text-align: right;\n",
       "    }\n",
       "</style>\n",
       "<table border=\"1\" class=\"dataframe\">\n",
       "  <thead>\n",
       "    <tr style=\"text-align: right;\">\n",
       "      <th></th>\n",
       "      <th>Group</th>\n",
       "      <th>Subgroup1</th>\n",
       "      <th>Subgroup2</th>\n",
       "      <th>KO</th>\n",
       "      <th>Function</th>\n",
       "    </tr>\n",
       "  </thead>\n",
       "  <tbody>\n",
       "    <tr>\n",
       "      <th>0</th>\n",
       "      <td>09100 Metabolism</td>\n",
       "      <td>09101 Carbohydrate metabolism</td>\n",
       "      <td>00010 Glycolysis / Gluconeogenesis [PATH:ko00010]</td>\n",
       "      <td>K00844</td>\n",
       "      <td>HK; hexokinase [EC:2.7.1.1]</td>\n",
       "    </tr>\n",
       "    <tr>\n",
       "      <th>1</th>\n",
       "      <td>09100 Metabolism</td>\n",
       "      <td>09101 Carbohydrate metabolism</td>\n",
       "      <td>00010 Glycolysis / Gluconeogenesis [PATH:ko00010]</td>\n",
       "      <td>K12407</td>\n",
       "      <td>GCK; glucokinase [EC:2.7.1.2]</td>\n",
       "    </tr>\n",
       "    <tr>\n",
       "      <th>2</th>\n",
       "      <td>09100 Metabolism</td>\n",
       "      <td>09101 Carbohydrate metabolism</td>\n",
       "      <td>00010 Glycolysis / Gluconeogenesis [PATH:ko00010]</td>\n",
       "      <td>K00845</td>\n",
       "      <td>glk; glucokinase [EC:2.7.1.2]</td>\n",
       "    </tr>\n",
       "    <tr>\n",
       "      <th>3</th>\n",
       "      <td>09100 Metabolism</td>\n",
       "      <td>09101 Carbohydrate metabolism</td>\n",
       "      <td>00010 Glycolysis / Gluconeogenesis [PATH:ko00010]</td>\n",
       "      <td>K01810</td>\n",
       "      <td>GPI, pgi; glucose-6-phosphate isomerase [EC:5...</td>\n",
       "    </tr>\n",
       "    <tr>\n",
       "      <th>4</th>\n",
       "      <td>09100 Metabolism</td>\n",
       "      <td>09101 Carbohydrate metabolism</td>\n",
       "      <td>00010 Glycolysis / Gluconeogenesis [PATH:ko00010]</td>\n",
       "      <td>K06859</td>\n",
       "      <td>pgi1; glucose-6-phosphate isomerase, archaeal...</td>\n",
       "    </tr>\n",
       "  </tbody>\n",
       "</table>\n",
       "</div>"
      ],
      "text/plain": [
       "              Group                      Subgroup1  \\\n",
       "0  09100 Metabolism  09101 Carbohydrate metabolism   \n",
       "1  09100 Metabolism  09101 Carbohydrate metabolism   \n",
       "2  09100 Metabolism  09101 Carbohydrate metabolism   \n",
       "3  09100 Metabolism  09101 Carbohydrate metabolism   \n",
       "4  09100 Metabolism  09101 Carbohydrate metabolism   \n",
       "\n",
       "                                           Subgroup2      KO  \\\n",
       "0  00010 Glycolysis / Gluconeogenesis [PATH:ko00010]  K00844   \n",
       "1  00010 Glycolysis / Gluconeogenesis [PATH:ko00010]  K12407   \n",
       "2  00010 Glycolysis / Gluconeogenesis [PATH:ko00010]  K00845   \n",
       "3  00010 Glycolysis / Gluconeogenesis [PATH:ko00010]  K01810   \n",
       "4  00010 Glycolysis / Gluconeogenesis [PATH:ko00010]  K06859   \n",
       "\n",
       "                                            Function  \n",
       "0                        HK; hexokinase [EC:2.7.1.1]  \n",
       "1                      GCK; glucokinase [EC:2.7.1.2]  \n",
       "2                      glk; glucokinase [EC:2.7.1.2]  \n",
       "3   GPI, pgi; glucose-6-phosphate isomerase [EC:5...  \n",
       "4   pgi1; glucose-6-phosphate isomerase, archaeal...  "
      ]
     },
     "execution_count": 5,
     "metadata": {},
     "output_type": "execute_result"
    }
   ],
   "source": [
    "# Split the function from the KO\n",
    "ko_master[['KO', 'Function']] = ko_master['KO'].str.split(\" \", n=1, expand=True)\n",
    "#kos = ko_master.drop('Function', axis=1)\n",
    "ko_master.head()"
   ]
  },
  {
   "cell_type": "markdown",
   "metadata": {},
   "source": [
    "### Import the KO list and make a pandas list from it"
   ]
  },
  {
   "cell_type": "code",
   "execution_count": 30,
   "metadata": {},
   "outputs": [],
   "source": [
    "kos = pd.read_csv(\"Asymp_vs_symp/KOs_SD_functions.csv\", header=0, sep=',')\n",
    "ko_list = list(kos['KO'])"
   ]
  },
  {
   "cell_type": "code",
   "execution_count": 31,
   "metadata": {},
   "outputs": [
    {
     "data": {
      "text/plain": [
       "['K01803',\n",
       " 'K15633',\n",
       " 'K01785',\n",
       " 'K01223',\n",
       " 'K01676',\n",
       " 'K01677',\n",
       " 'K00036',\n",
       " 'K01815',\n",
       " 'K00963',\n",
       " 'K00847',\n",
       " 'K01809',\n",
       " 'K02768',\n",
       " 'K02769',\n",
       " 'K01190',\n",
       " 'K05349',\n",
       " 'K00975',\n",
       " 'K21574',\n",
       " 'K00705',\n",
       " 'K01207',\n",
       " 'K00820',\n",
       " 'K12452',\n",
       " 'K00656',\n",
       " 'K00925',\n",
       " 'K01649',\n",
       " 'K01966',\n",
       " 'K01091',\n",
       " 'K01915',\n",
       " 'K01580',\n",
       " 'K01652',\n",
       " 'K00343',\n",
       " 'K00297',\n",
       " 'K03385',\n",
       " 'K06881',\n",
       " 'K01738',\n",
       " 'K02078',\n",
       " 'K09458',\n",
       " 'K16363',\n",
       " 'K01897',\n",
       " 'K01130',\n",
       " 'K00764',\n",
       " 'K03787',\n",
       " 'K03783',\n",
       " 'K02428',\n",
       " 'K01951',\n",
       " 'K21636',\n",
       " 'K00951',\n",
       " 'K01939',\n",
       " 'K01591',\n",
       " 'K01937',\n",
       " 'K00876',\n",
       " 'K00757',\n",
       " 'K01520',\n",
       " 'K11358',\n",
       " 'K01744',\n",
       " 'K00133',\n",
       " 'K14155',\n",
       " 'K00549',\n",
       " 'K07173',\n",
       " 'K01740',\n",
       " 'K00821',\n",
       " 'K00620',\n",
       " 'K00145',\n",
       " 'K01585',\n",
       " 'K01480',\n",
       " 'K00817',\n",
       " 'K04517',\n",
       " 'K00384',\n",
       " 'K01874',\n",
       " 'K01776',\n",
       " 'K01270',\n",
       " 'K05515',\n",
       " 'K15923',\n",
       " 'K04487',\n",
       " 'K03517',\n",
       " 'K02227',\n",
       " 'K04720',\n",
       " 'K00806',\n",
       " 'K00973',\n",
       " 'K02996',\n",
       " 'K02959',\n",
       " 'K02939',\n",
       " 'K02871',\n",
       " 'K01872',\n",
       " 'K01868',\n",
       " 'K01892',\n",
       " 'K03100',\n",
       " 'K04079',\n",
       " 'K11927',\n",
       " 'K12573',\n",
       " 'K03654',\n",
       " 'K03628',\n",
       " 'K04077',\n",
       " 'K03763',\n",
       " 'K02314',\n",
       " 'K02316',\n",
       " 'K01151',\n",
       " 'K03701',\n",
       " 'K03702',\n",
       " 'K03703',\n",
       " 'K03657',\n",
       " 'K04066',\n",
       " 'K10188',\n",
       " 'K17319',\n",
       " 'K17320',\n",
       " 'K02067',\n",
       " 'K02065',\n",
       " 'K02038',\n",
       " 'K01998',\n",
       " 'K01995',\n",
       " 'K09815',\n",
       " 'K09810',\n",
       " 'K01548',\n",
       " 'K20487',\n",
       " 'K07706',\n",
       " 'K07165',\n",
       " 'K04564',\n",
       " 'K01338',\n",
       " 'K03531',\n",
       " 'K01358',\n",
       " 'K19068',\n",
       " 'K04069',\n",
       " 'K15533',\n",
       " 'K13292',\n",
       " 'K05970',\n",
       " 'K07214',\n",
       " 'K01133',\n",
       " 'K01181',\n",
       " 'K05989',\n",
       " 'K15532',\n",
       " 'K01811',\n",
       " 'K10254',\n",
       " 'K10822',\n",
       " 'K03612',\n",
       " 'K19294',\n",
       " 'K03688',\n",
       " 'K06959',\n",
       " 'K07576',\n",
       " 'K07391',\n",
       " 'K07460',\n",
       " 'K07493',\n",
       " 'K03328',\n",
       " 'K07085',\n",
       " 'K06374',\n",
       " 'K06400',\n",
       " 'K06413',\n",
       " 'K06217',\n",
       " 'K01993',\n",
       " 'K02005',\n",
       " 'K07017',\n",
       " 'K07088',\n",
       " 'K07133',\n",
       " 'K11529',\n",
       " 'K01595',\n",
       " 'K01692',\n",
       " 'K02114',\n",
       " 'K00761',\n",
       " 'K16328',\n",
       " 'K01008',\n",
       " 'K16650',\n",
       " 'K15771',\n",
       " 'K15583',\n",
       " 'K08483',\n",
       " 'K02031',\n",
       " 'K09769']"
      ]
     },
     "execution_count": 31,
     "metadata": {},
     "output_type": "execute_result"
    }
   ],
   "source": [
    "ko_list"
   ]
  },
  {
   "cell_type": "markdown",
   "metadata": {},
   "source": [
    "## Option 1: Use the Master KO file to assign a function to each of the KOs in ko_list"
   ]
  },
  {
   "cell_type": "code",
   "execution_count": 32,
   "metadata": {},
   "outputs": [],
   "source": [
    "ko_fxns = ko_master[['KO','Function']]\n",
    "ko_fxns.head()"
   ]
  },
  {
   "cell_type": "code",
   "execution_count": 18,
   "metadata": {},
   "outputs": [],
   "source": [
    "merged = pd.merge(kos, ko_fxns, on='KO', how='inner')\n",
    "merged.head()"
   ]
  },
  {
   "cell_type": "code",
   "execution_count": 31,
   "metadata": {},
   "outputs": [
    {
     "data": {
      "text/plain": [
       "(504, 2)"
      ]
     },
     "execution_count": 31,
     "metadata": {},
     "output_type": "execute_result"
    }
   ],
   "source": [
    "merged.shape"
   ]
  },
  {
   "cell_type": "markdown",
   "metadata": {},
   "source": [
    "#### Because KOs fall into multiple categories, there will be multiple entries. Keep only one."
   ]
  },
  {
   "cell_type": "code",
   "execution_count": 35,
   "metadata": {},
   "outputs": [],
   "source": [
    "merged.drop_duplicates(keep='first', inplace=True)\n",
    "merged.shape"
   ]
  },
  {
   "cell_type": "code",
   "execution_count": 37,
   "metadata": {},
   "outputs": [],
   "source": [
    "merged.to_csv(\"KO_fxns.csv\", index=None)"
   ]
  },
  {
   "cell_type": "markdown",
   "metadata": {},
   "source": [
    "## Option 2: Extract category and function assignments of the master file using the KO list"
   ]
  },
  {
   "cell_type": "code",
   "execution_count": 33,
   "metadata": {},
   "outputs": [
    {
     "data": {
      "text/html": [
       "<div>\n",
       "<style scoped>\n",
       "    .dataframe tbody tr th:only-of-type {\n",
       "        vertical-align: middle;\n",
       "    }\n",
       "\n",
       "    .dataframe tbody tr th {\n",
       "        vertical-align: top;\n",
       "    }\n",
       "\n",
       "    .dataframe thead th {\n",
       "        text-align: right;\n",
       "    }\n",
       "</style>\n",
       "<table border=\"1\" class=\"dataframe\">\n",
       "  <thead>\n",
       "    <tr style=\"text-align: right;\">\n",
       "      <th></th>\n",
       "      <th>Group</th>\n",
       "      <th>Subgroup1</th>\n",
       "      <th>Subgroup2</th>\n",
       "      <th>KO</th>\n",
       "      <th>Function</th>\n",
       "    </tr>\n",
       "  </thead>\n",
       "  <tbody>\n",
       "    <tr>\n",
       "      <th>23</th>\n",
       "      <td>09100 Metabolism</td>\n",
       "      <td>09101 Carbohydrate metabolism</td>\n",
       "      <td>00010 Glycolysis / Gluconeogenesis [PATH:ko00010]</td>\n",
       "      <td>K01803</td>\n",
       "      <td>TPI, tpiA; triosephosphate isomerase (TIM) [E...</td>\n",
       "    </tr>\n",
       "    <tr>\n",
       "      <th>29</th>\n",
       "      <td>09100 Metabolism</td>\n",
       "      <td>09101 Carbohydrate metabolism</td>\n",
       "      <td>00010 Glycolysis / Gluconeogenesis [PATH:ko00010]</td>\n",
       "      <td>K15633</td>\n",
       "      <td>gpmI; 2,3-bisphosphoglycerate-independent pho...</td>\n",
       "    </tr>\n",
       "    <tr>\n",
       "      <th>75</th>\n",
       "      <td>09100 Metabolism</td>\n",
       "      <td>09101 Carbohydrate metabolism</td>\n",
       "      <td>00010 Glycolysis / Gluconeogenesis [PATH:ko00010]</td>\n",
       "      <td>K01785</td>\n",
       "      <td>galM, GALM; aldose 1-epimerase [EC:5.1.3.3]</td>\n",
       "    </tr>\n",
       "    <tr>\n",
       "      <th>93</th>\n",
       "      <td>09100 Metabolism</td>\n",
       "      <td>09101 Carbohydrate metabolism</td>\n",
       "      <td>00010 Glycolysis / Gluconeogenesis [PATH:ko00010]</td>\n",
       "      <td>K01223</td>\n",
       "      <td>E3.2.1.86B, bglA; 6-phospho-beta-glucosidase ...</td>\n",
       "    </tr>\n",
       "    <tr>\n",
       "      <th>140</th>\n",
       "      <td>09100 Metabolism</td>\n",
       "      <td>09101 Carbohydrate metabolism</td>\n",
       "      <td>00020 Citrate cycle (TCA cycle) [PATH:ko00020]</td>\n",
       "      <td>K01676</td>\n",
       "      <td>E4.2.1.2A, fumA, fumB; fumarate hydratase, cl...</td>\n",
       "    </tr>\n",
       "  </tbody>\n",
       "</table>\n",
       "</div>"
      ],
      "text/plain": [
       "                Group                      Subgroup1  \\\n",
       "23   09100 Metabolism  09101 Carbohydrate metabolism   \n",
       "29   09100 Metabolism  09101 Carbohydrate metabolism   \n",
       "75   09100 Metabolism  09101 Carbohydrate metabolism   \n",
       "93   09100 Metabolism  09101 Carbohydrate metabolism   \n",
       "140  09100 Metabolism  09101 Carbohydrate metabolism   \n",
       "\n",
       "                                             Subgroup2      KO  \\\n",
       "23   00010 Glycolysis / Gluconeogenesis [PATH:ko00010]  K01803   \n",
       "29   00010 Glycolysis / Gluconeogenesis [PATH:ko00010]  K15633   \n",
       "75   00010 Glycolysis / Gluconeogenesis [PATH:ko00010]  K01785   \n",
       "93   00010 Glycolysis / Gluconeogenesis [PATH:ko00010]  K01223   \n",
       "140     00020 Citrate cycle (TCA cycle) [PATH:ko00020]  K01676   \n",
       "\n",
       "                                              Function  \n",
       "23    TPI, tpiA; triosephosphate isomerase (TIM) [E...  \n",
       "29    gpmI; 2,3-bisphosphoglycerate-independent pho...  \n",
       "75         galM, GALM; aldose 1-epimerase [EC:5.1.3.3]  \n",
       "93    E3.2.1.86B, bglA; 6-phospho-beta-glucosidase ...  \n",
       "140   E4.2.1.2A, fumA, fumB; fumarate hydratase, cl...  "
      ]
     },
     "execution_count": 33,
     "metadata": {},
     "output_type": "execute_result"
    }
   ],
   "source": [
    "# only KOs that are in the ko_list\n",
    "kos_funct = ko_master.loc[ko_master['KO'].isin(ko_list), :]\n",
    "kos_funct.head()"
   ]
  },
  {
   "cell_type": "code",
   "execution_count": 34,
   "metadata": {},
   "outputs": [
    {
     "name": "stderr",
     "output_type": "stream",
     "text": [
      "/Users/npatin3/miniconda/lib/python3.6/site-packages/pandas/core/frame.py:2963: SettingWithCopyWarning: \n",
      "A value is trying to be set on a copy of a slice from a DataFrame.\n",
      "Try using .loc[row_indexer,col_indexer] = value instead\n",
      "\n",
      "See the caveats in the documentation: https://pandas.pydata.org/pandas-docs/stable/user_guide/indexing.html#returning-a-view-versus-a-copy\n",
      "  self[k1] = value[k2]\n"
     ]
    },
    {
     "data": {
      "text/html": [
       "<div>\n",
       "<style scoped>\n",
       "    .dataframe tbody tr th:only-of-type {\n",
       "        vertical-align: middle;\n",
       "    }\n",
       "\n",
       "    .dataframe tbody tr th {\n",
       "        vertical-align: top;\n",
       "    }\n",
       "\n",
       "    .dataframe thead th {\n",
       "        text-align: right;\n",
       "    }\n",
       "</style>\n",
       "<table border=\"1\" class=\"dataframe\">\n",
       "  <thead>\n",
       "    <tr style=\"text-align: right;\">\n",
       "      <th></th>\n",
       "      <th>Group</th>\n",
       "      <th>Subgroup1</th>\n",
       "      <th>Subgroup2</th>\n",
       "      <th>KO</th>\n",
       "      <th>Function</th>\n",
       "    </tr>\n",
       "  </thead>\n",
       "  <tbody>\n",
       "    <tr>\n",
       "      <th>23</th>\n",
       "      <td>09100 Metabolism</td>\n",
       "      <td>09101 Carbohydrate metabolism</td>\n",
       "      <td>00010 Glycolysis / Gluconeogenesis</td>\n",
       "      <td>K01803</td>\n",
       "      <td>TPI, tpiA; triosephosphate isomerase (TIM) [E...</td>\n",
       "    </tr>\n",
       "    <tr>\n",
       "      <th>29</th>\n",
       "      <td>09100 Metabolism</td>\n",
       "      <td>09101 Carbohydrate metabolism</td>\n",
       "      <td>00010 Glycolysis / Gluconeogenesis</td>\n",
       "      <td>K15633</td>\n",
       "      <td>gpmI; 2,3-bisphosphoglycerate-independent pho...</td>\n",
       "    </tr>\n",
       "    <tr>\n",
       "      <th>75</th>\n",
       "      <td>09100 Metabolism</td>\n",
       "      <td>09101 Carbohydrate metabolism</td>\n",
       "      <td>00010 Glycolysis / Gluconeogenesis</td>\n",
       "      <td>K01785</td>\n",
       "      <td>galM, GALM; aldose 1-epimerase [EC:5.1.3.3]</td>\n",
       "    </tr>\n",
       "    <tr>\n",
       "      <th>93</th>\n",
       "      <td>09100 Metabolism</td>\n",
       "      <td>09101 Carbohydrate metabolism</td>\n",
       "      <td>00010 Glycolysis / Gluconeogenesis</td>\n",
       "      <td>K01223</td>\n",
       "      <td>E3.2.1.86B, bglA; 6-phospho-beta-glucosidase ...</td>\n",
       "    </tr>\n",
       "    <tr>\n",
       "      <th>140</th>\n",
       "      <td>09100 Metabolism</td>\n",
       "      <td>09101 Carbohydrate metabolism</td>\n",
       "      <td>00020 Citrate cycle (TCA cycle)</td>\n",
       "      <td>K01676</td>\n",
       "      <td>E4.2.1.2A, fumA, fumB; fumarate hydratase, cl...</td>\n",
       "    </tr>\n",
       "  </tbody>\n",
       "</table>\n",
       "</div>"
      ],
      "text/plain": [
       "                Group                      Subgroup1  \\\n",
       "23   09100 Metabolism  09101 Carbohydrate metabolism   \n",
       "29   09100 Metabolism  09101 Carbohydrate metabolism   \n",
       "75   09100 Metabolism  09101 Carbohydrate metabolism   \n",
       "93   09100 Metabolism  09101 Carbohydrate metabolism   \n",
       "140  09100 Metabolism  09101 Carbohydrate metabolism   \n",
       "\n",
       "                               Subgroup2      KO  \\\n",
       "23   00010 Glycolysis / Gluconeogenesis   K01803   \n",
       "29   00010 Glycolysis / Gluconeogenesis   K15633   \n",
       "75   00010 Glycolysis / Gluconeogenesis   K01785   \n",
       "93   00010 Glycolysis / Gluconeogenesis   K01223   \n",
       "140     00020 Citrate cycle (TCA cycle)   K01676   \n",
       "\n",
       "                                              Function  \n",
       "23    TPI, tpiA; triosephosphate isomerase (TIM) [E...  \n",
       "29    gpmI; 2,3-bisphosphoglycerate-independent pho...  \n",
       "75         galM, GALM; aldose 1-epimerase [EC:5.1.3.3]  \n",
       "93    E3.2.1.86B, bglA; 6-phospho-beta-glucosidase ...  \n",
       "140   E4.2.1.2A, fumA, fumB; fumarate hydratase, cl...  "
      ]
     },
     "execution_count": 34,
     "metadata": {},
     "output_type": "execute_result"
    }
   ],
   "source": [
    "# Split out the number label for groups and subgroups\n",
    "kos_funct[['Subgroup2', 'PATH']] = kos_funct['Subgroup2'].str.split(\"[\", n=1, expand=True)\n",
    "kos_funct = kos_funct.drop('PATH', axis=1)\n",
    "kos_funct.head()"
   ]
  },
  {
   "cell_type": "code",
   "execution_count": 35,
   "metadata": {},
   "outputs": [
    {
     "data": {
      "text/html": [
       "<div>\n",
       "<style scoped>\n",
       "    .dataframe tbody tr th:only-of-type {\n",
       "        vertical-align: middle;\n",
       "    }\n",
       "\n",
       "    .dataframe tbody tr th {\n",
       "        vertical-align: top;\n",
       "    }\n",
       "\n",
       "    .dataframe thead th {\n",
       "        text-align: right;\n",
       "    }\n",
       "</style>\n",
       "<table border=\"1\" class=\"dataframe\">\n",
       "  <thead>\n",
       "    <tr style=\"text-align: right;\">\n",
       "      <th></th>\n",
       "      <th>Group</th>\n",
       "      <th>Subgroup1</th>\n",
       "      <th>Subgroup2</th>\n",
       "      <th>KO</th>\n",
       "      <th>Function</th>\n",
       "    </tr>\n",
       "  </thead>\n",
       "  <tbody>\n",
       "    <tr>\n",
       "      <th>23</th>\n",
       "      <td>Metabolism</td>\n",
       "      <td>09101 Carbohydrate metabolism</td>\n",
       "      <td>00010 Glycolysis / Gluconeogenesis</td>\n",
       "      <td>K01803</td>\n",
       "      <td>TPI, tpiA; triosephosphate isomerase (TIM) [E...</td>\n",
       "    </tr>\n",
       "    <tr>\n",
       "      <th>29</th>\n",
       "      <td>Metabolism</td>\n",
       "      <td>09101 Carbohydrate metabolism</td>\n",
       "      <td>00010 Glycolysis / Gluconeogenesis</td>\n",
       "      <td>K15633</td>\n",
       "      <td>gpmI; 2,3-bisphosphoglycerate-independent pho...</td>\n",
       "    </tr>\n",
       "    <tr>\n",
       "      <th>75</th>\n",
       "      <td>Metabolism</td>\n",
       "      <td>09101 Carbohydrate metabolism</td>\n",
       "      <td>00010 Glycolysis / Gluconeogenesis</td>\n",
       "      <td>K01785</td>\n",
       "      <td>galM, GALM; aldose 1-epimerase [EC:5.1.3.3]</td>\n",
       "    </tr>\n",
       "    <tr>\n",
       "      <th>93</th>\n",
       "      <td>Metabolism</td>\n",
       "      <td>09101 Carbohydrate metabolism</td>\n",
       "      <td>00010 Glycolysis / Gluconeogenesis</td>\n",
       "      <td>K01223</td>\n",
       "      <td>E3.2.1.86B, bglA; 6-phospho-beta-glucosidase ...</td>\n",
       "    </tr>\n",
       "    <tr>\n",
       "      <th>140</th>\n",
       "      <td>Metabolism</td>\n",
       "      <td>09101 Carbohydrate metabolism</td>\n",
       "      <td>00020 Citrate cycle (TCA cycle)</td>\n",
       "      <td>K01676</td>\n",
       "      <td>E4.2.1.2A, fumA, fumB; fumarate hydratase, cl...</td>\n",
       "    </tr>\n",
       "  </tbody>\n",
       "</table>\n",
       "</div>"
      ],
      "text/plain": [
       "          Group                      Subgroup1  \\\n",
       "23   Metabolism  09101 Carbohydrate metabolism   \n",
       "29   Metabolism  09101 Carbohydrate metabolism   \n",
       "75   Metabolism  09101 Carbohydrate metabolism   \n",
       "93   Metabolism  09101 Carbohydrate metabolism   \n",
       "140  Metabolism  09101 Carbohydrate metabolism   \n",
       "\n",
       "                               Subgroup2      KO  \\\n",
       "23   00010 Glycolysis / Gluconeogenesis   K01803   \n",
       "29   00010 Glycolysis / Gluconeogenesis   K15633   \n",
       "75   00010 Glycolysis / Gluconeogenesis   K01785   \n",
       "93   00010 Glycolysis / Gluconeogenesis   K01223   \n",
       "140     00020 Citrate cycle (TCA cycle)   K01676   \n",
       "\n",
       "                                              Function  \n",
       "23    TPI, tpiA; triosephosphate isomerase (TIM) [E...  \n",
       "29    gpmI; 2,3-bisphosphoglycerate-independent pho...  \n",
       "75         galM, GALM; aldose 1-epimerase [EC:5.1.3.3]  \n",
       "93    E3.2.1.86B, bglA; 6-phospho-beta-glucosidase ...  \n",
       "140   E4.2.1.2A, fumA, fumB; fumarate hydratase, cl...  "
      ]
     },
     "execution_count": 35,
     "metadata": {},
     "output_type": "execute_result"
    }
   ],
   "source": [
    "# Split out the number label for groups and subgroups\n",
    "kos_funct[['GroupNum', 'Group']] = kos_funct['Group'].str.split(\" \", n=1, expand=True)\n",
    "kos_funct = kos_funct.drop('GroupNum', axis=1)\n",
    "kos_funct.head()"
   ]
  },
  {
   "cell_type": "code",
   "execution_count": 36,
   "metadata": {},
   "outputs": [
    {
     "data": {
      "text/html": [
       "<div>\n",
       "<style scoped>\n",
       "    .dataframe tbody tr th:only-of-type {\n",
       "        vertical-align: middle;\n",
       "    }\n",
       "\n",
       "    .dataframe tbody tr th {\n",
       "        vertical-align: top;\n",
       "    }\n",
       "\n",
       "    .dataframe thead th {\n",
       "        text-align: right;\n",
       "    }\n",
       "</style>\n",
       "<table border=\"1\" class=\"dataframe\">\n",
       "  <thead>\n",
       "    <tr style=\"text-align: right;\">\n",
       "      <th></th>\n",
       "      <th>Group</th>\n",
       "      <th>Subgroup1</th>\n",
       "      <th>Subgroup2</th>\n",
       "      <th>KO</th>\n",
       "      <th>Function</th>\n",
       "    </tr>\n",
       "  </thead>\n",
       "  <tbody>\n",
       "    <tr>\n",
       "      <th>23</th>\n",
       "      <td>Metabolism</td>\n",
       "      <td>Carbohydrate metabolism</td>\n",
       "      <td>00010 Glycolysis / Gluconeogenesis</td>\n",
       "      <td>K01803</td>\n",
       "      <td>TPI, tpiA; triosephosphate isomerase (TIM) [E...</td>\n",
       "    </tr>\n",
       "    <tr>\n",
       "      <th>29</th>\n",
       "      <td>Metabolism</td>\n",
       "      <td>Carbohydrate metabolism</td>\n",
       "      <td>00010 Glycolysis / Gluconeogenesis</td>\n",
       "      <td>K15633</td>\n",
       "      <td>gpmI; 2,3-bisphosphoglycerate-independent pho...</td>\n",
       "    </tr>\n",
       "    <tr>\n",
       "      <th>75</th>\n",
       "      <td>Metabolism</td>\n",
       "      <td>Carbohydrate metabolism</td>\n",
       "      <td>00010 Glycolysis / Gluconeogenesis</td>\n",
       "      <td>K01785</td>\n",
       "      <td>galM, GALM; aldose 1-epimerase [EC:5.1.3.3]</td>\n",
       "    </tr>\n",
       "    <tr>\n",
       "      <th>93</th>\n",
       "      <td>Metabolism</td>\n",
       "      <td>Carbohydrate metabolism</td>\n",
       "      <td>00010 Glycolysis / Gluconeogenesis</td>\n",
       "      <td>K01223</td>\n",
       "      <td>E3.2.1.86B, bglA; 6-phospho-beta-glucosidase ...</td>\n",
       "    </tr>\n",
       "    <tr>\n",
       "      <th>140</th>\n",
       "      <td>Metabolism</td>\n",
       "      <td>Carbohydrate metabolism</td>\n",
       "      <td>00020 Citrate cycle (TCA cycle)</td>\n",
       "      <td>K01676</td>\n",
       "      <td>E4.2.1.2A, fumA, fumB; fumarate hydratase, cl...</td>\n",
       "    </tr>\n",
       "  </tbody>\n",
       "</table>\n",
       "</div>"
      ],
      "text/plain": [
       "          Group                Subgroup1                            Subgroup2  \\\n",
       "23   Metabolism  Carbohydrate metabolism  00010 Glycolysis / Gluconeogenesis    \n",
       "29   Metabolism  Carbohydrate metabolism  00010 Glycolysis / Gluconeogenesis    \n",
       "75   Metabolism  Carbohydrate metabolism  00010 Glycolysis / Gluconeogenesis    \n",
       "93   Metabolism  Carbohydrate metabolism  00010 Glycolysis / Gluconeogenesis    \n",
       "140  Metabolism  Carbohydrate metabolism     00020 Citrate cycle (TCA cycle)    \n",
       "\n",
       "         KO                                           Function  \n",
       "23   K01803   TPI, tpiA; triosephosphate isomerase (TIM) [E...  \n",
       "29   K15633   gpmI; 2,3-bisphosphoglycerate-independent pho...  \n",
       "75   K01785        galM, GALM; aldose 1-epimerase [EC:5.1.3.3]  \n",
       "93   K01223   E3.2.1.86B, bglA; 6-phospho-beta-glucosidase ...  \n",
       "140  K01676   E4.2.1.2A, fumA, fumB; fumarate hydratase, cl...  "
      ]
     },
     "execution_count": 36,
     "metadata": {},
     "output_type": "execute_result"
    }
   ],
   "source": [
    "# Split out the number label for groups and subgroups\n",
    "kos_funct[['GroupNum', 'Subgroup1']] = kos_funct['Subgroup1'].str.split(\" \", n=1, expand=True)\n",
    "kos_funct = kos_funct.drop('GroupNum', axis=1)\n",
    "kos_funct.head()"
   ]
  },
  {
   "cell_type": "code",
   "execution_count": 37,
   "metadata": {},
   "outputs": [
    {
     "data": {
      "text/html": [
       "<div>\n",
       "<style scoped>\n",
       "    .dataframe tbody tr th:only-of-type {\n",
       "        vertical-align: middle;\n",
       "    }\n",
       "\n",
       "    .dataframe tbody tr th {\n",
       "        vertical-align: top;\n",
       "    }\n",
       "\n",
       "    .dataframe thead th {\n",
       "        text-align: right;\n",
       "    }\n",
       "</style>\n",
       "<table border=\"1\" class=\"dataframe\">\n",
       "  <thead>\n",
       "    <tr style=\"text-align: right;\">\n",
       "      <th></th>\n",
       "      <th>Group</th>\n",
       "      <th>Subgroup1</th>\n",
       "      <th>Subgroup2</th>\n",
       "      <th>KO</th>\n",
       "      <th>Function</th>\n",
       "    </tr>\n",
       "  </thead>\n",
       "  <tbody>\n",
       "    <tr>\n",
       "      <th>23</th>\n",
       "      <td>Metabolism</td>\n",
       "      <td>Carbohydrate metabolism</td>\n",
       "      <td>Glycolysis / Gluconeogenesis</td>\n",
       "      <td>K01803</td>\n",
       "      <td>TPI, tpiA; triosephosphate isomerase (TIM) [E...</td>\n",
       "    </tr>\n",
       "    <tr>\n",
       "      <th>29</th>\n",
       "      <td>Metabolism</td>\n",
       "      <td>Carbohydrate metabolism</td>\n",
       "      <td>Glycolysis / Gluconeogenesis</td>\n",
       "      <td>K15633</td>\n",
       "      <td>gpmI; 2,3-bisphosphoglycerate-independent pho...</td>\n",
       "    </tr>\n",
       "    <tr>\n",
       "      <th>75</th>\n",
       "      <td>Metabolism</td>\n",
       "      <td>Carbohydrate metabolism</td>\n",
       "      <td>Glycolysis / Gluconeogenesis</td>\n",
       "      <td>K01785</td>\n",
       "      <td>galM, GALM; aldose 1-epimerase [EC:5.1.3.3]</td>\n",
       "    </tr>\n",
       "    <tr>\n",
       "      <th>93</th>\n",
       "      <td>Metabolism</td>\n",
       "      <td>Carbohydrate metabolism</td>\n",
       "      <td>Glycolysis / Gluconeogenesis</td>\n",
       "      <td>K01223</td>\n",
       "      <td>E3.2.1.86B, bglA; 6-phospho-beta-glucosidase ...</td>\n",
       "    </tr>\n",
       "    <tr>\n",
       "      <th>140</th>\n",
       "      <td>Metabolism</td>\n",
       "      <td>Carbohydrate metabolism</td>\n",
       "      <td>Citrate cycle (TCA cycle)</td>\n",
       "      <td>K01676</td>\n",
       "      <td>E4.2.1.2A, fumA, fumB; fumarate hydratase, cl...</td>\n",
       "    </tr>\n",
       "  </tbody>\n",
       "</table>\n",
       "</div>"
      ],
      "text/plain": [
       "          Group                Subgroup1                      Subgroup2  \\\n",
       "23   Metabolism  Carbohydrate metabolism  Glycolysis / Gluconeogenesis    \n",
       "29   Metabolism  Carbohydrate metabolism  Glycolysis / Gluconeogenesis    \n",
       "75   Metabolism  Carbohydrate metabolism  Glycolysis / Gluconeogenesis    \n",
       "93   Metabolism  Carbohydrate metabolism  Glycolysis / Gluconeogenesis    \n",
       "140  Metabolism  Carbohydrate metabolism     Citrate cycle (TCA cycle)    \n",
       "\n",
       "         KO                                           Function  \n",
       "23   K01803   TPI, tpiA; triosephosphate isomerase (TIM) [E...  \n",
       "29   K15633   gpmI; 2,3-bisphosphoglycerate-independent pho...  \n",
       "75   K01785        galM, GALM; aldose 1-epimerase [EC:5.1.3.3]  \n",
       "93   K01223   E3.2.1.86B, bglA; 6-phospho-beta-glucosidase ...  \n",
       "140  K01676   E4.2.1.2A, fumA, fumB; fumarate hydratase, cl...  "
      ]
     },
     "execution_count": 37,
     "metadata": {},
     "output_type": "execute_result"
    }
   ],
   "source": [
    "# Split out the number label for groups and subgroups\n",
    "kos_funct[['GroupNum', 'Subgroup2']] = kos_funct['Subgroup2'].str.split(\" \", n=1, expand=True)\n",
    "kos_funct = kos_funct.drop('GroupNum', axis=1)\n",
    "kos_funct.head()"
   ]
  },
  {
   "cell_type": "code",
   "execution_count": 38,
   "metadata": {},
   "outputs": [
    {
     "data": {
      "text/plain": [
       "(420, 5)"
      ]
     },
     "execution_count": 38,
     "metadata": {},
     "output_type": "execute_result"
    }
   ],
   "source": [
    "kos_funct.shape"
   ]
  },
  {
   "cell_type": "markdown",
   "metadata": {},
   "source": [
    "#### Exclude irrelevant categories"
   ]
  },
  {
   "cell_type": "code",
   "execution_count": 39,
   "metadata": {},
   "outputs": [],
   "source": [
    "searchfor = ['Human Diseases','Brite Hierarchies','Organismal Systems',\n",
    "                                    'Cellular community - eukaryotes']\n",
    "kos_funct2 = kos_funct.loc[~kos_funct['Group'].str.contains('|'.join(searchfor))]"
   ]
  },
  {
   "cell_type": "code",
   "execution_count": 40,
   "metadata": {},
   "outputs": [
    {
     "data": {
      "text/plain": [
       "164"
      ]
     },
     "execution_count": 40,
     "metadata": {},
     "output_type": "execute_result"
    }
   ],
   "source": [
    "uniq_kos = kos_funct2.KO.unique()\n",
    "len(uniq_kos)"
   ]
  },
  {
   "cell_type": "code",
   "execution_count": 28,
   "metadata": {},
   "outputs": [
    {
     "data": {
      "text/plain": [
       "(63, 5)"
      ]
     },
     "execution_count": 28,
     "metadata": {},
     "output_type": "execute_result"
    }
   ],
   "source": [
    "kos_funct2.shape"
   ]
  },
  {
   "cell_type": "code",
   "execution_count": 29,
   "metadata": {},
   "outputs": [],
   "source": [
    "kos_funct2.to_csv(\"MAG_SDKOs_p05_CORRECTED_funct.csv\", index=None)"
   ]
  },
  {
   "cell_type": "markdown",
   "metadata": {},
   "source": [
    "### Groupby various levels and get counts for each level"
   ]
  },
  {
   "cell_type": "code",
   "execution_count": 67,
   "metadata": {},
   "outputs": [
    {
     "data": {
      "text/html": [
       "<div>\n",
       "<style scoped>\n",
       "    .dataframe tbody tr th:only-of-type {\n",
       "        vertical-align: middle;\n",
       "    }\n",
       "\n",
       "    .dataframe tbody tr th {\n",
       "        vertical-align: top;\n",
       "    }\n",
       "\n",
       "    .dataframe thead th {\n",
       "        text-align: right;\n",
       "    }\n",
       "</style>\n",
       "<table border=\"1\" class=\"dataframe\">\n",
       "  <thead>\n",
       "    <tr style=\"text-align: right;\">\n",
       "      <th></th>\n",
       "      <th>Subgroup1</th>\n",
       "      <th>Subgroup2</th>\n",
       "      <th>KO</th>\n",
       "      <th>Function</th>\n",
       "    </tr>\n",
       "    <tr>\n",
       "      <th>Group</th>\n",
       "      <th></th>\n",
       "      <th></th>\n",
       "      <th></th>\n",
       "      <th></th>\n",
       "    </tr>\n",
       "  </thead>\n",
       "  <tbody>\n",
       "    <tr>\n",
       "      <th>Cellular Processes</th>\n",
       "      <td>19</td>\n",
       "      <td>19</td>\n",
       "      <td>19</td>\n",
       "      <td>19</td>\n",
       "    </tr>\n",
       "    <tr>\n",
       "      <th>Environmental Information Processing</th>\n",
       "      <td>34</td>\n",
       "      <td>34</td>\n",
       "      <td>34</td>\n",
       "      <td>34</td>\n",
       "    </tr>\n",
       "    <tr>\n",
       "      <th>Genetic Information Processing</th>\n",
       "      <td>21</td>\n",
       "      <td>21</td>\n",
       "      <td>21</td>\n",
       "      <td>21</td>\n",
       "    </tr>\n",
       "    <tr>\n",
       "      <th>Metabolism</th>\n",
       "      <td>281</td>\n",
       "      <td>281</td>\n",
       "      <td>281</td>\n",
       "      <td>281</td>\n",
       "    </tr>\n",
       "    <tr>\n",
       "      <th>Not Included in Pathway or Brite</th>\n",
       "      <td>76</td>\n",
       "      <td>76</td>\n",
       "      <td>76</td>\n",
       "      <td>76</td>\n",
       "    </tr>\n",
       "  </tbody>\n",
       "</table>\n",
       "</div>"
      ],
      "text/plain": [
       "                                      Subgroup1  Subgroup2   KO  Function\n",
       "Group                                                                    \n",
       "Cellular Processes                           19         19   19        19\n",
       "Environmental Information Processing         34         34   34        34\n",
       "Genetic Information Processing               21         21   21        21\n",
       "Metabolism                                  281        281  281       281\n",
       "Not Included in Pathway or Brite             76         76   76        76"
      ]
     },
     "execution_count": 67,
     "metadata": {},
     "output_type": "execute_result"
    }
   ],
   "source": [
    "kos_funct2.groupby(['Group']).count()"
   ]
  },
  {
   "cell_type": "code",
   "execution_count": 69,
   "metadata": {},
   "outputs": [],
   "source": [
    "subgroups1 = kos_funct2.groupby(['Subgroup1']).count()"
   ]
  },
  {
   "cell_type": "code",
   "execution_count": 71,
   "metadata": {},
   "outputs": [],
   "source": [
    "subgroups1.to_csv(\"MAG_SDKOs_p02_subgroups1.csv\")"
   ]
  },
  {
   "cell_type": "code",
   "execution_count": null,
   "metadata": {},
   "outputs": [],
   "source": []
  }
 ],
 "metadata": {
  "kernelspec": {
   "display_name": "Python 3",
   "language": "python",
   "name": "python3"
  },
  "language_info": {
   "codemirror_mode": {
    "name": "ipython",
    "version": 3
   },
   "file_extension": ".py",
   "mimetype": "text/x-python",
   "name": "python",
   "nbconvert_exporter": "python",
   "pygments_lexer": "ipython3",
   "version": "3.6.7"
  }
 },
 "nbformat": 4,
 "nbformat_minor": 2
}
