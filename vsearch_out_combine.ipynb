{
 "cells": [
  {
   "cell_type": "markdown",
   "metadata": {},
   "source": [
    "## This script takes individual taxon raw abundance files, with one column named 'Taxonomy' and one named with the sample identifier, and merges them into a spreadsheet that can be used for bar plots, diversity analyses, etc.\n",
    "\n",
    "## For the Norovirus manuscript this was run after 'vsearch_out_format_for_merge.ipynb'"
   ]
  },
  {
   "cell_type": "code",
   "execution_count": 1,
   "metadata": {},
   "outputs": [],
   "source": [
    "import os as os\n",
    "import pandas as pd\n",
    "import numpy as np\n",
    "import glob as glob\n",
    "from functools import reduce"
   ]
  },
  {
   "cell_type": "code",
   "execution_count": 2,
   "metadata": {},
   "outputs": [
    {
     "name": "stdout",
     "output_type": "stream",
     "text": [
      "/Users/npatin3/Dropbox (GaTech)/Norovirus/vsearch/vsearch_out/baselines\n"
     ]
    }
   ],
   "source": [
    "cd ~/Dropbox\\ \\(GaTech\\)/Norovirus/vsearch/vsearch_out/baselines"
   ]
  },
  {
   "cell_type": "markdown",
   "metadata": {},
   "source": [
    "### Make a dictionary with sample name and associated file"
   ]
  },
  {
   "cell_type": "code",
   "execution_count": 3,
   "metadata": {},
   "outputs": [
    {
     "name": "stdout",
     "output_type": "stream",
     "text": [
      "{'36_1': '36_1_pdformat.csv', '37_1': '37_1_pdformat.csv', '41_1': '41_1_pdformat.csv', '49_1': '49_1_pdformat.csv', '38_1': '38_1_pdformat.csv', '28_1': '28_1_pdformat.csv', '4_1': '4_1_pdformat.csv', '15_1': '15_1_pdformat.csv', '13_1': '13_1_pdformat.csv'}\n"
     ]
    }
   ],
   "source": [
    "files = {}\n",
    "for file in glob.glob(\"*.csv\"):\n",
    "    a, b = file.split('.')\n",
    "    x, y, z = a.split('_')\n",
    "    name = x + '_' + y\n",
    "    files[name] = file\n",
    "print(files)"
   ]
  },
  {
   "cell_type": "markdown",
   "metadata": {},
   "source": [
    "### Use the dictionary to merge all files on the Taxonomy file with a fill outer merge (keeping all taxa)"
   ]
  },
  {
   "cell_type": "code",
   "execution_count": 5,
   "metadata": {},
   "outputs": [],
   "source": [
    "reads = []\n",
    "for key in files:\n",
    "    df = pd.read_csv(files[key])\n",
    "    reads.append(df)\n",
    "\n",
    "reads_df = reduce(lambda x, y: pd.merge(x, y, on = 'Taxonomy', how='outer'), reads)"
   ]
  },
  {
   "cell_type": "code",
   "execution_count": 6,
   "metadata": {},
   "outputs": [
    {
     "data": {
      "text/html": [
       "<div>\n",
       "<style scoped>\n",
       "    .dataframe tbody tr th:only-of-type {\n",
       "        vertical-align: middle;\n",
       "    }\n",
       "\n",
       "    .dataframe tbody tr th {\n",
       "        vertical-align: top;\n",
       "    }\n",
       "\n",
       "    .dataframe thead th {\n",
       "        text-align: right;\n",
       "    }\n",
       "</style>\n",
       "<table border=\"1\" class=\"dataframe\">\n",
       "  <thead>\n",
       "    <tr style=\"text-align: right;\">\n",
       "      <th></th>\n",
       "      <th>Taxonomy</th>\n",
       "      <th>36_1</th>\n",
       "      <th>37_1</th>\n",
       "      <th>41_1</th>\n",
       "      <th>49_1</th>\n",
       "      <th>38_1</th>\n",
       "      <th>28_1</th>\n",
       "      <th>4_1</th>\n",
       "      <th>15_1</th>\n",
       "      <th>13_1</th>\n",
       "    </tr>\n",
       "  </thead>\n",
       "  <tbody>\n",
       "    <tr>\n",
       "      <th>0</th>\n",
       "      <td>Acidobacteria;Holophagae;Acanthopleuribacteral...</td>\n",
       "      <td>1.0</td>\n",
       "      <td>NaN</td>\n",
       "      <td>NaN</td>\n",
       "      <td>NaN</td>\n",
       "      <td>NaN</td>\n",
       "      <td>NaN</td>\n",
       "      <td>NaN</td>\n",
       "      <td>NaN</td>\n",
       "      <td>NaN</td>\n",
       "    </tr>\n",
       "    <tr>\n",
       "      <th>1</th>\n",
       "      <td>Actinobacteria;Actinomycetales;Actinomycetacea...</td>\n",
       "      <td>3.0</td>\n",
       "      <td>NaN</td>\n",
       "      <td>NaN</td>\n",
       "      <td>2.0</td>\n",
       "      <td>NaN</td>\n",
       "      <td>3.0</td>\n",
       "      <td>NaN</td>\n",
       "      <td>2.0</td>\n",
       "      <td>NaN</td>\n",
       "    </tr>\n",
       "    <tr>\n",
       "      <th>2</th>\n",
       "      <td>Actinobacteria;Actinomycetales;Actinomycetacea...</td>\n",
       "      <td>13.0</td>\n",
       "      <td>NaN</td>\n",
       "      <td>NaN</td>\n",
       "      <td>NaN</td>\n",
       "      <td>1.0</td>\n",
       "      <td>18.0</td>\n",
       "      <td>1.0</td>\n",
       "      <td>7.0</td>\n",
       "      <td>5.0</td>\n",
       "    </tr>\n",
       "    <tr>\n",
       "      <th>3</th>\n",
       "      <td>Actinobacteria;Actinomycetales;Actinomycetacea...</td>\n",
       "      <td>2.0</td>\n",
       "      <td>NaN</td>\n",
       "      <td>NaN</td>\n",
       "      <td>NaN</td>\n",
       "      <td>NaN</td>\n",
       "      <td>2.0</td>\n",
       "      <td>NaN</td>\n",
       "      <td>1.0</td>\n",
       "      <td>1.0</td>\n",
       "    </tr>\n",
       "    <tr>\n",
       "      <th>4</th>\n",
       "      <td>Actinobacteria;Bifidobacteriales;Bifidobacteri...</td>\n",
       "      <td>908.0</td>\n",
       "      <td>NaN</td>\n",
       "      <td>78.0</td>\n",
       "      <td>187.0</td>\n",
       "      <td>137.0</td>\n",
       "      <td>96.0</td>\n",
       "      <td>185.0</td>\n",
       "      <td>262.0</td>\n",
       "      <td>200.0</td>\n",
       "    </tr>\n",
       "    <tr>\n",
       "      <th>5</th>\n",
       "      <td>Actinobacteria;Bifidobacteriales;Bifidobacteri...</td>\n",
       "      <td>92.0</td>\n",
       "      <td>NaN</td>\n",
       "      <td>9.0</td>\n",
       "      <td>7.0</td>\n",
       "      <td>5.0</td>\n",
       "      <td>1.0</td>\n",
       "      <td>NaN</td>\n",
       "      <td>9.0</td>\n",
       "      <td>17.0</td>\n",
       "    </tr>\n",
       "    <tr>\n",
       "      <th>6</th>\n",
       "      <td>Actinobacteria;Bifidobacteriales;Bifidobacteri...</td>\n",
       "      <td>59.0</td>\n",
       "      <td>NaN</td>\n",
       "      <td>17.0</td>\n",
       "      <td>20.0</td>\n",
       "      <td>21.0</td>\n",
       "      <td>9.0</td>\n",
       "      <td>7.0</td>\n",
       "      <td>40.0</td>\n",
       "      <td>26.0</td>\n",
       "    </tr>\n",
       "    <tr>\n",
       "      <th>7</th>\n",
       "      <td>Actinobacteria;Bifidobacteriales;Bifidobacteri...</td>\n",
       "      <td>198.0</td>\n",
       "      <td>NaN</td>\n",
       "      <td>13.0</td>\n",
       "      <td>38.0</td>\n",
       "      <td>30.0</td>\n",
       "      <td>15.0</td>\n",
       "      <td>46.0</td>\n",
       "      <td>100.0</td>\n",
       "      <td>54.0</td>\n",
       "    </tr>\n",
       "    <tr>\n",
       "      <th>8</th>\n",
       "      <td>Actinobacteria;Bifidobacteriales;Bifidobacteri...</td>\n",
       "      <td>1.0</td>\n",
       "      <td>NaN</td>\n",
       "      <td>NaN</td>\n",
       "      <td>NaN</td>\n",
       "      <td>NaN</td>\n",
       "      <td>NaN</td>\n",
       "      <td>NaN</td>\n",
       "      <td>1.0</td>\n",
       "      <td>NaN</td>\n",
       "    </tr>\n",
       "    <tr>\n",
       "      <th>9</th>\n",
       "      <td>Actinobacteria;Coriobacteriia;Coriobacteriales...</td>\n",
       "      <td>5.0</td>\n",
       "      <td>NaN</td>\n",
       "      <td>1.0</td>\n",
       "      <td>NaN</td>\n",
       "      <td>1.0</td>\n",
       "      <td>3.0</td>\n",
       "      <td>2.0</td>\n",
       "      <td>6.0</td>\n",
       "      <td>3.0</td>\n",
       "    </tr>\n",
       "  </tbody>\n",
       "</table>\n",
       "</div>"
      ],
      "text/plain": [
       "                                            Taxonomy   36_1  37_1  41_1  \\\n",
       "0  Acidobacteria;Holophagae;Acanthopleuribacteral...    1.0   NaN   NaN   \n",
       "1  Actinobacteria;Actinomycetales;Actinomycetacea...    3.0   NaN   NaN   \n",
       "2  Actinobacteria;Actinomycetales;Actinomycetacea...   13.0   NaN   NaN   \n",
       "3  Actinobacteria;Actinomycetales;Actinomycetacea...    2.0   NaN   NaN   \n",
       "4  Actinobacteria;Bifidobacteriales;Bifidobacteri...  908.0   NaN  78.0   \n",
       "5  Actinobacteria;Bifidobacteriales;Bifidobacteri...   92.0   NaN   9.0   \n",
       "6  Actinobacteria;Bifidobacteriales;Bifidobacteri...   59.0   NaN  17.0   \n",
       "7  Actinobacteria;Bifidobacteriales;Bifidobacteri...  198.0   NaN  13.0   \n",
       "8  Actinobacteria;Bifidobacteriales;Bifidobacteri...    1.0   NaN   NaN   \n",
       "9  Actinobacteria;Coriobacteriia;Coriobacteriales...    5.0   NaN   1.0   \n",
       "\n",
       "    49_1   38_1  28_1    4_1   15_1   13_1  \n",
       "0    NaN    NaN   NaN    NaN    NaN    NaN  \n",
       "1    2.0    NaN   3.0    NaN    2.0    NaN  \n",
       "2    NaN    1.0  18.0    1.0    7.0    5.0  \n",
       "3    NaN    NaN   2.0    NaN    1.0    1.0  \n",
       "4  187.0  137.0  96.0  185.0  262.0  200.0  \n",
       "5    7.0    5.0   1.0    NaN    9.0   17.0  \n",
       "6   20.0   21.0   9.0    7.0   40.0   26.0  \n",
       "7   38.0   30.0  15.0   46.0  100.0   54.0  \n",
       "8    NaN    NaN   NaN    NaN    1.0    NaN  \n",
       "9    NaN    1.0   3.0    2.0    6.0    3.0  "
      ]
     },
     "execution_count": 6,
     "metadata": {},
     "output_type": "execute_result"
    }
   ],
   "source": [
    "reads_df.head(10)"
   ]
  },
  {
   "cell_type": "markdown",
   "metadata": {},
   "source": [
    "### Replace all instances of NaN with 0"
   ]
  },
  {
   "cell_type": "code",
   "execution_count": 7,
   "metadata": {},
   "outputs": [],
   "source": [
    "reads_df = reads_df.fillna(0)"
   ]
  },
  {
   "cell_type": "markdown",
   "metadata": {},
   "source": [
    "### Save as csv"
   ]
  },
  {
   "cell_type": "code",
   "execution_count": 9,
   "metadata": {},
   "outputs": [],
   "source": [
    "reads_df.to_csv(\"Noro_baselines_16S_all.csv\", index=None)"
   ]
  }
 ],
 "metadata": {
  "kernelspec": {
   "display_name": "Python 3",
   "language": "python",
   "name": "python3"
  },
  "language_info": {
   "codemirror_mode": {
    "name": "ipython",
    "version": 3
   },
   "file_extension": ".py",
   "mimetype": "text/x-python",
   "name": "python",
   "nbconvert_exporter": "python",
   "pygments_lexer": "ipython3",
   "version": "3.6.7"
  }
 },
 "nbformat": 4,
 "nbformat_minor": 2
}
